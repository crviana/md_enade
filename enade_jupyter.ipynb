{
 "cells": [
  {
   "cell_type": "code",
   "execution_count": 5,
   "metadata": {},
   "outputs": [
    {
     "data": {
      "text/html": [
       "'C:/Users/crvia'"
      ],
      "text/latex": [
       "'C:/Users/crvia'"
      ],
      "text/markdown": [
       "'C:/Users/crvia'"
      ],
      "text/plain": [
       "[1] \"C:/Users/crvia\""
      ]
     },
     "metadata": {},
     "output_type": "display_data"
    }
   ],
   "source": [
    "##########################################################################\n",
    "#\n",
    "#Configurações iniciais\n",
    "#\n",
    "##########################################################################\n",
    "#verifica a pasta de trabalho\n",
    "getwd()\n"
   ]
  },
  {
   "cell_type": "code",
   "execution_count": 3,
   "metadata": {
    "collapsed": true
   },
   "outputs": [],
   "source": [
    "#Definindo a pasta de trabalho\n",
    "setwd(\"C:/Users/crvia/OneDrive/Documentos/R/Enade\")"
   ]
  },
  {
   "cell_type": "code",
   "execution_count": 1,
   "metadata": {
    "collapsed": true
   },
   "outputs": [],
   "source": [
    "qqq <- function(x, ref.line=TRUE, distr=qnorm, param=list(mean=0, sd=1)){\n",
    "  x <- na.omit(x)               # remove NA\n",
    "  xo <- sort(x)                 # ordena a amostra\n",
    "  n <- length(x)                # número de elementos\n",
    "  i <- seq_along(x)             # índices posicionais\n",
    "  pteo <- (i-0.5)/n             # probabilidades teóricas\n",
    "  qteo <- do.call(distr,        # quantis teóricos sob a distribuição\n",
    "                  c(list(p=pteo), param))\n",
    "  plot(xo~qteo)                 # quantis observados ~ quantis teóricos\n",
    "  if(ref.line){\n",
    "    qrto <- quantile(x, c(1,3)/4) # 1º e 3º quartis observados\n",
    "    qrtt <- do.call(distr,        # 1º e 3º quartis teóricos\n",
    "                    c(list(p=c(1,3)/4), param))\n",
    "    points(qrtt, qrto, pch=3)     # quartis, por eles passa uma reta de referência\n",
    "    b <- diff(qrto)/diff(qrtt)    # coeficiente de inclinação da reta\n",
    "    a <- b*(0-qrtt[1])+qrto[1]    # intercepto da reta\n",
    "    abline(a=a, b=b)              # reta de referência\n",
    "  }\n",
    "}\n",
    "\n"
   ]
  },
  {
   "cell_type": "code",
   "execution_count": 19,
   "metadata": {
    "collapsed": true
   },
   "outputs": [],
   "source": [
    "# NORMALIZACAO MIN-MAX\n",
    "normalize.minmax <- function(data, norm.set=NULL)\n",
    "{\n",
    "  data = data.frame(data)\n",
    "  if(is.null(norm.set))\n",
    "  {\n",
    "    minmax = data.frame(t(sapply(data, max, na.rm=TRUE)))\n",
    "    minmax = rbind(minmax, t(sapply(data, min, na.rm=TRUE)))\n",
    "  }\n",
    "  else {\n",
    "    minmax = norm.set\n",
    "  }\n",
    "  data = rbind(data, minmax)\n",
    "  normalize_minmax <- function(x)\n",
    "  {\n",
    "    maxd = x[length(x)-1]\n",
    "    mind = x[length(x)]\n",
    "    return ((x-mind)/(maxd-mind))\n",
    "  }\n",
    "  data = data.frame(sapply(data, normalize_minmax))\n",
    "  data = data[1:(nrow(data)-2),]\n",
    "  return (list(data, minmax))\n",
    "}\n",
    "\n"
   ]
  },
  {
   "cell_type": "code",
   "execution_count": 20,
   "metadata": {
    "collapsed": true
   },
   "outputs": [],
   "source": [
    "draw_confusion_matrix <- function(cm) {\n",
    "  \n",
    "  layout(matrix(c(1,1,2)))\n",
    "  par(mar=c(2,2,2,2))\n",
    "  plot(c(100, 345), c(300, 450), type = \"n\", xlab=\"\", ylab=\"\", xaxt='n', yaxt='n')\n",
    "  title('Matriz de Confusão', cex.main=2)\n",
    "  \n",
    "  # criando a Matriz\n",
    "  rect(150, 430, 240, 370, col='#3F97D0')\n",
    "  text(195, 435, 'Class1', cex=1.2)\n",
    "  rect(250, 430, 340, 370, col='#F7AD50')\n",
    "  text(295, 435, 'Class2', cex=1.2)\n",
    "  text(125, 370, 'Previsto', cex=1.3, srt=90, font=2)\n",
    "  text(245, 450, 'Atual', cex=1.3, font=2)\n",
    "  rect(150, 305, 240, 365, col='#F7AD50')\n",
    "  rect(250, 305, 340, 365, col='#3F97D0')\n",
    "  text(140, 400, 'Class1', cex=1.2, srt=90)\n",
    "  text(140, 335, 'Class2', cex=1.2, srt=90)\n",
    "  \n",
    "  # add in the cm results \n",
    "  res <- as.numeric(cm$table)\n",
    "  text(195, 400, res[1], cex=1.6, font=2, col='white')\n",
    "  text(195, 335, res[2], cex=1.6, font=2, col='white')\n",
    "  text(295, 400, res[3], cex=1.6, font=2, col='white')\n",
    "  text(295, 335, res[4], cex=1.6, font=2, col='white')\n",
    "  \n",
    "  # add in the specifics \n",
    "  plot(c(100, 0), c(100, 0), type = \"n\", xlab=\"\", ylab=\"\", main = \"Detalhes\", xaxt='n', yaxt='n')\n",
    "  text(10, 85, names(cm$byClass[1]), cex=1.2, font=2)\n",
    "  text(10, 70, round(as.numeric(cm$byClass[1]), 3), cex=1.2)\n",
    "  text(30, 85, names(cm$byClass[2]), cex=1.2, font=2)\n",
    "  text(30, 70, round(as.numeric(cm$byClass[2]), 3), cex=1.2)\n",
    "  text(50, 85, names(cm$byClass[5]), cex=1.2, font=2)\n",
    "  text(50, 70, round(as.numeric(cm$byClass[5]), 3), cex=1.2)\n",
    "  text(70, 85, names(cm$byClass[6]), cex=1.2, font=2)\n",
    "  text(70, 70, round(as.numeric(cm$byClass[6]), 3), cex=1.2)\n",
    "  text(90, 85, names(cm$byClass[7]), cex=1.2, font=2)\n",
    "  text(90, 70, round(as.numeric(cm$byClass[7]), 3), cex=1.2)\n",
    "  \n",
    "  # add in the accuracy information \n",
    "  text(30, 35, names(cm$overall[1]), cex=1.5, font=2)\n",
    "  text(30, 20, round(as.numeric(cm$overall[1]), 3), cex=1.4)\n",
    "  text(70, 35, names(cm$overall[2]), cex=1.5, font=2)\n",
    "  text(70, 20, round(as.numeric(cm$overall[2]), 3), cex=1.4)\n",
    "}  \n"
   ]
  },
  {
   "cell_type": "code",
   "execution_count": 10,
   "metadata": {
    "collapsed": true
   },
   "outputs": [],
   "source": [
    "InstalaPacotes = function(pacote){\n",
    "  if (pacote %in% rownames(installed.packages())){\n",
    "    mensagem <- paste(\"Pacote\", pacote, \"Já está Instalado\")\n",
    "  }else{\n",
    "    mensagem <- paste(\"Instalando Pacote\", pacote)\n",
    "    install.packages(pacote)  \n",
    "  }\n",
    "  return(mensagem)  \n",
    "}\n"
   ]
  },
  {
   "cell_type": "code",
   "execution_count": 11,
   "metadata": {},
   "outputs": [
    {
     "data": {
      "text/html": [
       "'Pacote dplyr Já está Instalado'"
      ],
      "text/latex": [
       "'Pacote dplyr Já está Instalado'"
      ],
      "text/markdown": [
       "'Pacote dplyr Já está Instalado'"
      ],
      "text/plain": [
       "[1] \"Pacote dplyr Já está Instalado\""
      ]
     },
     "metadata": {},
     "output_type": "display_data"
    },
    {
     "data": {
      "text/html": [
       "'Pacote readr Já está Instalado'"
      ],
      "text/latex": [
       "'Pacote readr Já está Instalado'"
      ],
      "text/markdown": [
       "'Pacote readr Já está Instalado'"
      ],
      "text/plain": [
       "[1] \"Pacote readr Já está Instalado\""
      ]
     },
     "metadata": {},
     "output_type": "display_data"
    },
    {
     "data": {
      "text/html": [
       "'Pacote stringr Já está Instalado'"
      ],
      "text/latex": [
       "'Pacote stringr Já está Instalado'"
      ],
      "text/markdown": [
       "'Pacote stringr Já está Instalado'"
      ],
      "text/plain": [
       "[1] \"Pacote stringr Já está Instalado\""
      ]
     },
     "metadata": {},
     "output_type": "display_data"
    },
    {
     "data": {
      "text/html": [
       "'Pacote stringi Já está Instalado'"
      ],
      "text/latex": [
       "'Pacote stringi Já está Instalado'"
      ],
      "text/markdown": [
       "'Pacote stringi Já está Instalado'"
      ],
      "text/plain": [
       "[1] \"Pacote stringi Já está Instalado\""
      ]
     },
     "metadata": {},
     "output_type": "display_data"
    },
    {
     "data": {
      "text/html": [
       "'Pacote sqldf Já está Instalado'"
      ],
      "text/latex": [
       "'Pacote sqldf Já está Instalado'"
      ],
      "text/markdown": [
       "'Pacote sqldf Já está Instalado'"
      ],
      "text/plain": [
       "[1] \"Pacote sqldf Já está Instalado\""
      ]
     },
     "metadata": {},
     "output_type": "display_data"
    },
    {
     "data": {
      "text/html": [
       "'Pacote microbenchmark Já está Instalado'"
      ],
      "text/latex": [
       "'Pacote microbenchmark Já está Instalado'"
      ],
      "text/markdown": [
       "'Pacote microbenchmark Já está Instalado'"
      ],
      "text/plain": [
       "[1] \"Pacote microbenchmark Já está Instalado\""
      ]
     },
     "metadata": {},
     "output_type": "display_data"
    },
    {
     "data": {
      "text/html": [
       "'Pacote mgcv Já está Instalado'"
      ],
      "text/latex": [
       "'Pacote mgcv Já está Instalado'"
      ],
      "text/markdown": [
       "'Pacote mgcv Já está Instalado'"
      ],
      "text/plain": [
       "[1] \"Pacote mgcv Já está Instalado\""
      ]
     },
     "metadata": {},
     "output_type": "display_data"
    },
    {
     "data": {
      "text/html": [
       "'Pacote ggplot2 Já está Instalado'"
      ],
      "text/latex": [
       "'Pacote ggplot2 Já está Instalado'"
      ],
      "text/markdown": [
       "'Pacote ggplot2 Já está Instalado'"
      ],
      "text/plain": [
       "[1] \"Pacote ggplot2 Já está Instalado\""
      ]
     },
     "metadata": {},
     "output_type": "display_data"
    },
    {
     "data": {
      "text/html": [
       "'Pacote sqldf Já está Instalado'"
      ],
      "text/latex": [
       "'Pacote sqldf Já está Instalado'"
      ],
      "text/markdown": [
       "'Pacote sqldf Já está Instalado'"
      ],
      "text/plain": [
       "[1] \"Pacote sqldf Já está Instalado\""
      ]
     },
     "metadata": {},
     "output_type": "display_data"
    },
    {
     "data": {
      "text/html": [
       "'Pacote tcltk Já está Instalado'"
      ],
      "text/latex": [
       "'Pacote tcltk Já está Instalado'"
      ],
      "text/markdown": [
       "'Pacote tcltk Já está Instalado'"
      ],
      "text/plain": [
       "[1] \"Pacote tcltk Já está Instalado\""
      ]
     },
     "metadata": {},
     "output_type": "display_data"
    },
    {
     "data": {
      "text/html": [
       "'Pacote e1071 Já está Instalado'"
      ],
      "text/latex": [
       "'Pacote e1071 Já está Instalado'"
      ],
      "text/markdown": [
       "'Pacote e1071 Já está Instalado'"
      ],
      "text/plain": [
       "[1] \"Pacote e1071 Já está Instalado\""
      ]
     },
     "metadata": {},
     "output_type": "display_data"
    },
    {
     "data": {
      "text/html": [
       "'Pacote rminer Já está Instalado'"
      ],
      "text/latex": [
       "'Pacote rminer Já está Instalado'"
      ],
      "text/markdown": [
       "'Pacote rminer Já está Instalado'"
      ],
      "text/plain": [
       "[1] \"Pacote rminer Já está Instalado\""
      ]
     },
     "metadata": {},
     "output_type": "display_data"
    },
    {
     "data": {
      "text/html": [
       "'Pacote reshape Já está Instalado'"
      ],
      "text/latex": [
       "'Pacote reshape Já está Instalado'"
      ],
      "text/markdown": [
       "'Pacote reshape Já está Instalado'"
      ],
      "text/plain": [
       "[1] \"Pacote reshape Já está Instalado\""
      ]
     },
     "metadata": {},
     "output_type": "display_data"
    },
    {
     "data": {
      "text/html": [
       "'Pacote caret Já está Instalado'"
      ],
      "text/latex": [
       "'Pacote caret Já está Instalado'"
      ],
      "text/markdown": [
       "'Pacote caret Já está Instalado'"
      ],
      "text/plain": [
       "[1] \"Pacote caret Já está Instalado\""
      ]
     },
     "metadata": {},
     "output_type": "display_data"
    },
    {
     "data": {
      "text/html": [
       "'Pacote glmnet Já está Instalado'"
      ],
      "text/latex": [
       "'Pacote glmnet Já está Instalado'"
      ],
      "text/markdown": [
       "'Pacote glmnet Já está Instalado'"
      ],
      "text/plain": [
       "[1] \"Pacote glmnet Já está Instalado\""
      ]
     },
     "metadata": {},
     "output_type": "display_data"
    },
    {
     "data": {
      "text/html": [
       "'Pacote leaps Já está Instalado'"
      ],
      "text/latex": [
       "'Pacote leaps Já está Instalado'"
      ],
      "text/markdown": [
       "'Pacote leaps Já está Instalado'"
      ],
      "text/plain": [
       "[1] \"Pacote leaps Já está Instalado\""
      ]
     },
     "metadata": {},
     "output_type": "display_data"
    },
    {
     "data": {
      "text/html": [
       "'Pacote rJava Já está Instalado'"
      ],
      "text/latex": [
       "'Pacote rJava Já está Instalado'"
      ],
      "text/markdown": [
       "'Pacote rJava Já está Instalado'"
      ],
      "text/plain": [
       "[1] \"Pacote rJava Já está Instalado\""
      ]
     },
     "metadata": {},
     "output_type": "display_data"
    },
    {
     "data": {
      "text/html": [
       "'Pacote RWeka Já está Instalado'"
      ],
      "text/latex": [
       "'Pacote RWeka Já está Instalado'"
      ],
      "text/markdown": [
       "'Pacote RWeka Já está Instalado'"
      ],
      "text/plain": [
       "[1] \"Pacote RWeka Já está Instalado\""
      ]
     },
     "metadata": {},
     "output_type": "display_data"
    },
    {
     "data": {
      "text/html": [
       "'Pacote RWekajars Já está Instalado'"
      ],
      "text/latex": [
       "'Pacote RWekajars Já está Instalado'"
      ],
      "text/markdown": [
       "'Pacote RWekajars Já está Instalado'"
      ],
      "text/plain": [
       "[1] \"Pacote RWekajars Já está Instalado\""
      ]
     },
     "metadata": {},
     "output_type": "display_data"
    },
    {
     "data": {
      "text/html": [
       "'Pacote FSelector Já está Instalado'"
      ],
      "text/latex": [
       "'Pacote FSelector Já está Instalado'"
      ],
      "text/markdown": [
       "'Pacote FSelector Já está Instalado'"
      ],
      "text/plain": [
       "[1] \"Pacote FSelector Já está Instalado\""
      ]
     },
     "metadata": {},
     "output_type": "display_data"
    },
    {
     "data": {
      "text/html": [
       "'Pacote doBy Já está Instalado'"
      ],
      "text/latex": [
       "'Pacote doBy Já está Instalado'"
      ],
      "text/markdown": [
       "'Pacote doBy Já está Instalado'"
      ],
      "text/plain": [
       "[1] \"Pacote doBy Já está Instalado\""
      ]
     },
     "metadata": {},
     "output_type": "display_data"
    }
   ],
   "source": [
    "#Instala Pacotes Necessários\n",
    "InstalaPacotes('dplyr') \n",
    "InstalaPacotes('readr')\n",
    "InstalaPacotes('stringr')\n",
    "InstalaPacotes('stringi')\n",
    "InstalaPacotes('sqldf')\n",
    "InstalaPacotes('microbenchmark')\n",
    "InstalaPacotes('mgcv')\n",
    "InstalaPacotes('ggplot2')\n",
    "InstalaPacotes('sqldf')\n",
    "InstalaPacotes('tcltk')\n",
    "InstalaPacotes('e1071')\n",
    "InstalaPacotes('rminer')\n",
    "InstalaPacotes('reshape')\n",
    "\n",
    "InstalaPacotes(\"caret\")\n",
    "InstalaPacotes(\"glmnet\")\n",
    "InstalaPacotes(\"leaps\")\n",
    "InstalaPacotes(\"rJava\")\n",
    "InstalaPacotes(\"RWeka\")\n",
    "InstalaPacotes(\"RWekajars\")\n",
    "InstalaPacotes(\"FSelector\")\n",
    "InstalaPacotes(\"doBy\")\n"
   ]
  },
  {
   "cell_type": "code",
   "execution_count": 6,
   "metadata": {},
   "outputs": [
    {
     "name": "stderr",
     "output_type": "stream",
     "text": [
      "\n",
      "Attaching package: 'dplyr'\n",
      "\n",
      "The following objects are masked from 'package:stats':\n",
      "\n",
      "    filter, lag\n",
      "\n",
      "The following objects are masked from 'package:base':\n",
      "\n",
      "    intersect, setdiff, setequal, union\n",
      "\n",
      "Loading required package: gsubfn\n",
      "Loading required package: proto\n",
      "Loading required package: RSQLite\n",
      "Loading required package: DBI\n",
      "Loading required package: nlme\n",
      "\n",
      "Attaching package: 'nlme'\n",
      "\n",
      "The following object is masked from 'package:dplyr':\n",
      "\n",
      "    collapse\n",
      "\n",
      "This is mgcv 1.8-15. For overview type 'help(\"mgcv-package\")'.\n",
      "\n",
      "Attaching package: 'reshape'\n",
      "\n",
      "The following object is masked from 'package:dplyr':\n",
      "\n",
      "    rename\n",
      "\n",
      "Loading required package: Matrix\n",
      "\n",
      "Attaching package: 'Matrix'\n",
      "\n",
      "The following object is masked from 'package:reshape':\n",
      "\n",
      "    expand\n",
      "\n",
      "Loading required package: foreach\n",
      "Loaded glmnet 2.0-5\n",
      "\n"
     ]
    }
   ],
   "source": [
    "#Carrega Bibliotecas:\n",
    "library('dplyr')\n",
    "library('readr')\n",
    "library('stringr')\n",
    "library('stringi')\n",
    "library('sqldf')\n",
    "library('microbenchmark')\n",
    "library('mgcv')\n",
    "library('ggplot2')\n",
    "library('sqldf')\n",
    "library('tcltk')\n",
    "library('e1071')\n",
    "library('rminer')\n",
    "library('reshape')\n",
    "library(\"caret\")\n",
    "library(\"glmnet\")\n",
    "library(\"leaps\")\n",
    "library(\"doBy\")\n"
   ]
  },
  {
   "cell_type": "code",
   "execution_count": 7,
   "metadata": {
    "collapsed": true
   },
   "outputs": [],
   "source": [
    "#Carregando os dados \n",
    "denade<-read.csv('C:/Users/crvia/OneDrive/Documentos/R/Enade/microdados_enade_2014/2.DADOS/microdados_enade_2014.csv', sep=';', header=TRUE,na=\"NA\")\n"
   ]
  },
  {
   "cell_type": "code",
   "execution_count": 14,
   "metadata": {
    "collapsed": true
   },
   "outputs": [],
   "source": [
    "##########################################################################\n",
    "#\n",
    "#Explorar os dados\n",
    "#\n",
    "##########################################################################\n"
   ]
  },
  {
   "cell_type": "code",
   "execution_count": 15,
   "metadata": {},
   "outputs": [
    {
     "data": {
      "image/png": "[encoded data removed]",
      "text/plain": [
       "plot without title"
      ]
     },
     "metadata": {},
     "output_type": "display_data"
    }
   ],
   "source": [
    "# verifca os grupos\n",
    "grupo=sort(table(denade$co_grupo),decreasing = T)\n",
    "grupo=as.data.frame(grupo)\n",
    "maxgrupo<-max(grupo$Freq)\n",
    "maxgrupo<-maxgrupo*1.2\n",
    "barplot(grupo$Freq,names.arg = grupo$Var1, ylim=c(0,maxgrupo))\n",
    "\n"
   ]
  },
  {
   "cell_type": "code",
   "execution_count": 36,
   "metadata": {},
   "outputs": [
    {
     "data": {
      "image/png": "[encoded data removed]",
      "text/plain": [
       "Plot with title \"Histogram of denade$nt_ce\""
      ]
     },
     "metadata": {},
     "output_type": "display_data"
    }
   ],
   "source": [
    "#verifica as notas\n",
    "\n",
    "par(mfrow=c(1,4))\n",
    "hist(denade$nt_ger)\n",
    "boxplot(denade$nt_ger,col=\"yellow\")\n",
    "\n",
    "hist(denade$nt_ce)\n",
    "boxplot(denade$nt_ce, col=\"red\")\n",
    "\n",
    "par(mfrow=c(1,1))\n"
   ]
  },
  {
   "cell_type": "code",
   "execution_count": 8,
   "metadata": {},
   "outputs": [
    {
     "data": {},
     "metadata": {},
     "output_type": "display_data"
    },
    {
     "data": {
      "image/png": "[encoded data removed]",
      "text/plain": [
       "Plot with title \"Histogram of denade$co_orgac\""
      ]
     },
     "metadata": {},
     "output_type": "display_data"
    },
    {
     "data": {
      "image/png": "[encoded data removed]",
      "text/plain": [
       "plot without title"
      ]
     },
     "metadata": {},
     "output_type": "display_data"
    }
   ],
   "source": [
    "#10019 = Centro Federal de Educação Tecnológica\n",
    "#10020 = Centro Universitário\n",
    "#10022 = Faculdade\n",
    "#10026 = Instituto Federal de Educação, Ciência e Tecnologia\n",
    "#10028 = Universidade\n",
    "\n",
    "#histograma das organizações\n",
    "hist(denade$co_orgac)\n",
    "\n",
    "#verifica a distribuição dos diversos tipos de cursos\n",
    "#por regiões\n",
    "ggplot(denade, aes(x = co_regiao_curso)) + geom_histogram(bins=10) + facet_wrap(~co_grupo)\n",
    "\n"
   ]
  },
  {
   "cell_type": "code",
   "execution_count": 9,
   "metadata": {},
   "outputs": [
    {
     "data": {
      "image/png": "[encoded data removed]",
      "text/plain": [
       "plot without title"
      ]
     },
     "metadata": {},
     "output_type": "display_data"
    },
    {
     "data": {
      "image/png": "[encoded data removed]",
      "text/plain": [
       "plot without title"
      ]
     },
     "metadata": {},
     "output_type": "display_data"
    },
    {
     "data": {
      "image/png": "[encoded data removed]",
      "text/plain": [
       "plot without title"
      ]
     },
     "metadata": {},
     "output_type": "display_data"
    },
    {
     "data": {},
     "metadata": {},
     "output_type": "display_data"
    },
    {
     "data": {
      "image/png": "[encoded data removed]",
      "text/plain": [
       "Plot with title \"Normal Q-Q Plot\""
      ]
     },
     "metadata": {},
     "output_type": "display_data"
    },
    {
     "data": {
      "image/png": "[encoded data removed]",
      "text/plain": [
       "plot without title"
      ]
     },
     "metadata": {},
     "output_type": "display_data"
    }
   ],
   "source": [
    "#distribuição  normal das notas média gerais\n",
    "#distribuição  normal das notas média gerais\n",
    "par(mfrow=c(1,2))\n",
    "\n",
    "x <- denade$nt_ger\n",
    "qqq(x, ref.line=TRUE, distr=qunif, param=list(min=0, max=1))\n",
    "\n",
    "x <- denade$nt_ce\n",
    "qqq(x, ref.line=TRUE, distr=qunif, param=list(min=0, max=1))\n",
    "par(mfrow=c(1,1))\n",
    "\n",
    "\n",
    "# plot das organizações e notas gerais\n",
    "\n",
    "\n",
    "qqplot(denade$co_orgac,denade$nt_ger)\n",
    "plot(~ co_orgac+nt_ger, data=denade)\n",
    "\n",
    "qqnorm(denade$co_orgac)\n",
    "qqline(denade$co_orgac)\n",
    "\n",
    "\n",
    "dado<-denade %>%\n",
    "  select(co_orgac,nt_ger)%>%\n",
    "  group_by(co_orgac)%>%\n",
    "  filter(nt_ger > 0)\n",
    "\n",
    "ggplot(dado, aes(x=co_orgac,col=co_orgac,fill=co_orgac))+\n",
    "  geom_bar()+\n",
    "  scale_x_discrete(\"Código da organização acadêmica\") + \n",
    "  scale_y_continuous(\"Notas\")+\n",
    "  ggtitle(\"Organização x Notas\")\n"
   ]
  },
  {
   "cell_type": "code",
   "execution_count": 38,
   "metadata": {},
   "outputs": [
    {
     "data": {
      "image/png": "[encoded data removed]",
      "text/plain": [
       "plot without title"
      ]
     },
     "metadata": {},
     "output_type": "display_data"
    }
   ],
   "source": [
    "#A ( ) Não.\n",
    "#B ( ) Sim, por critério étnico-racial.\n",
    "#C ( ) Sim, por critério de renda.\n",
    "#D ( ) Sim, por ter estudado em escola pública ou particular com bolsa de estudos.\n",
    "#E ( ) Sim, por sistema que combina dois ou mais critérios anteriores.\n",
    "#F ( ) Sim, por sistema diferente dos anteriores.\n",
    "qqplot(denade$qe_i15,denade$nt_ger)\n"
   ]
  },
  {
   "cell_type": "code",
   "execution_count": 39,
   "metadata": {},
   "outputs": [
    {
     "data": {
      "image/png": "[encoded data removed]",
      "text/plain": [
       "plot without title"
      ]
     },
     "metadata": {},
     "output_type": "display_data"
    }
   ],
   "source": [
    "#A ( ) Todo em escola pública.\n",
    "#B ( ) Todo em escola privada (particular).\n",
    "#C ( ) Todo no exterior.\n",
    "#D ( ) A maior parte em escola pública.\n",
    "#E ( ) A maior parte em escola privada (particular).\n",
    "#F ( ) Parte no Brasil e parte no exterior\n",
    "qqplot(denade$qe_i17,denade$nt_ger)\n"
   ]
  },
  {
   "cell_type": "code",
   "execution_count": 40,
   "metadata": {},
   "outputs": [
    {
     "data": {
      "image/png": "[encoded data removed]",
      "text/plain": [
       "plot without title"
      ]
     },
     "metadata": {},
     "output_type": "display_data"
    }
   ],
   "source": [
    "#A ( ) Ensino médio tradicional.\n",
    "#B ( ) Profissionalizante técnico (eletrônica, contabilidade, agrícola, outro).4\n",
    "#C ( ) Profissionalizante magistério (Curso Normal).\n",
    "#D ( ) Educação de Jovens e Adultos (EJA) e/ou Supletivo.\n",
    "#E ( ) Outra modalidade.\n",
    "qqplot(denade$qe_i18,denade$nt_ger)\n"
   ]
  },
  {
   "cell_type": "code",
   "execution_count": 41,
   "metadata": {},
   "outputs": [
    {
     "data": {
      "image/png": "[encoded data removed]",
      "text/plain": [
       "plot without title"
      ]
     },
     "metadata": {},
     "output_type": "display_data"
    }
   ],
   "source": [
    "#A ( ) Ninguém.\n",
    "#B ( ) Pais.\n",
    "#C ( ) Outros membros da família que não os pais.\n",
    "#D ( ) Professores.\n",
    "#E ( ) Líder ou representante religioso.\n",
    "#F ( ) Colegas/Amigos.\n",
    "#G ( ) Outras pessoas\n",
    "qqplot(denade$qe_i19,denade$nt_ger)\n"
   ]
  },
  {
   "cell_type": "code",
   "execution_count": 42,
   "metadata": {},
   "outputs": [
    {
     "name": "stderr",
     "output_type": "stream",
     "text": [
      "Warning message:\n",
      "\"Removed 84944 rows containing missing values (geom_point).\""
     ]
    },
    {
     "data": {},
     "metadata": {},
     "output_type": "display_data"
    },
    {
     "name": "stderr",
     "output_type": "stream",
     "text": [
      "Warning message:\n",
      "\"Removed 84944 rows containing missing values (geom_point).\""
     ]
    },
    {
     "data": {},
     "metadata": {},
     "output_type": "display_data"
    },
    {
     "data": {
      "image/png": "[encoded data removed]",
      "text/plain": [
       "plot without title"
      ]
     },
     "metadata": {},
     "output_type": "display_data"
    },
    {
     "name": "stderr",
     "output_type": "stream",
     "text": [
      "Warning message:\n",
      "\"Removed 84944 rows containing missing values (geom_point).\""
     ]
    },
    {
     "data": {},
     "metadata": {},
     "output_type": "display_data"
    },
    {
     "data": {
      "image/png": "[encoded data removed]",
      "text/plain": [
       "plot without title"
      ]
     },
     "metadata": {},
     "output_type": "display_data"
    },
    {
     "data": {},
     "metadata": {},
     "output_type": "display_data"
    },
    {
     "data": {
      "image/png": "[encoded data removed]",
      "text/plain": [
       "plot without title"
      ]
     },
     "metadata": {},
     "output_type": "display_data"
    },
    {
     "data": {},
     "metadata": {},
     "output_type": "display_data"
    },
    {
     "data": {
      "image/png": "[encoded data removed]",
      "text/plain": [
       "plot without title"
      ]
     },
     "metadata": {},
     "output_type": "display_data"
    },
    {
     "data": {
      "image/png": "[encoded data removed]",
      "text/plain": [
       "plot without title"
      ]
     },
     "metadata": {},
     "output_type": "display_data"
    }
   ],
   "source": [
    "## verifca nota com o tipo de organização com notas\n",
    "\n",
    "fm <- lm(denade$co_orgac  ~ denade$nt_ger)\n",
    "\n",
    "g = ggplot(denade, aes(x = co_orgac, y = nt_ger))\n",
    "g + geom_point()\n",
    "\n",
    "g + geom_point(aes(color = co_orgac))\n",
    "\n",
    "g + geom_point(aes(color = co_orgac)) + facet_grid(~ co_orgac)\n",
    "\n",
    "ggplot(denade, aes(x = co_orgac)) + geom_histogram(bins=10) + facet_wrap(~qe_i17)\n",
    "\n",
    "ggplot(denade, aes(x = co_orgac)) + geom_histogram(bins=10) + facet_wrap(~qe_i15)\n"
   ]
  },
  {
   "cell_type": "code",
   "execution_count": 18,
   "metadata": {
    "collapsed": true
   },
   "outputs": [],
   "source": [
    "##########################################################################\n",
    "#\n",
    "#Pré-Processamento\n",
    "#\n",
    "##########################################################################\n"
   ]
  },
  {
   "cell_type": "code",
   "execution_count": 10,
   "metadata": {
    "collapsed": true
   },
   "outputs": [],
   "source": [
    "denade_limpa <- sqldf(\"SELECT * FROM denade where tp_inscricao=0\")\n",
    "denade_limpa=as.data.frame(denade_limpa)\n"
   ]
  },
  {
   "cell_type": "code",
   "execution_count": 11,
   "metadata": {},
   "outputs": [
    {
     "data": {
      "text/html": [
       "<table>\n",
       "<thead><tr><th scope=col>nu_ano</th><th scope=col>co_grupo</th><th scope=col>co_ies</th><th scope=col>co_catad</th><th scope=col>co_orgac</th><th scope=col>co_munic_curso</th><th scope=col>co_uf_curso</th><th scope=col>co_regiao_curso</th><th scope=col>co_curso</th><th scope=col>nu_idade</th><th scope=col>...</th><th scope=col>qe_i72</th><th scope=col>qe_i73</th><th scope=col>qe_i74</th><th scope=col>qe_i75</th><th scope=col>qe_i76</th><th scope=col>qe_i77</th><th scope=col>qe_i78</th><th scope=col>qe_i79</th><th scope=col>qe_i80</th><th scope=col>qe_i81</th></tr></thead>\n",
       "<tbody>\n",
       "\t<tr><td>FALSE</td><td>FALSE</td><td>FALSE</td><td>FALSE</td><td>FALSE</td><td>FALSE</td><td>FALSE</td><td>FALSE</td><td>FALSE</td><td>FALSE</td><td>...  </td><td>FALSE</td><td>FALSE</td><td>FALSE</td><td>FALSE</td><td>FALSE</td><td>FALSE</td><td>FALSE</td><td>FALSE</td><td>FALSE</td><td>FALSE</td></tr>\n",
       "\t<tr><td>FALSE</td><td>FALSE</td><td>FALSE</td><td>FALSE</td><td>FALSE</td><td>FALSE</td><td>FALSE</td><td>FALSE</td><td>FALSE</td><td>FALSE</td><td>...  </td><td>FALSE</td><td>FALSE</td><td>FALSE</td><td>FALSE</td><td>FALSE</td><td>FALSE</td><td>FALSE</td><td>FALSE</td><td>FALSE</td><td>FALSE</td></tr>\n",
       "\t<tr><td>FALSE</td><td>FALSE</td><td>FALSE</td><td>FALSE</td><td>FALSE</td><td>FALSE</td><td>FALSE</td><td>FALSE</td><td>FALSE</td><td>FALSE</td><td>...  </td><td>FALSE</td><td>FALSE</td><td>FALSE</td><td>FALSE</td><td>FALSE</td><td>FALSE</td><td>FALSE</td><td>FALSE</td><td>FALSE</td><td>FALSE</td></tr>\n",
       "\t<tr><td>FALSE</td><td>FALSE</td><td>FALSE</td><td>FALSE</td><td>FALSE</td><td>FALSE</td><td>FALSE</td><td>FALSE</td><td>FALSE</td><td>FALSE</td><td>...  </td><td>FALSE</td><td>FALSE</td><td>FALSE</td><td>FALSE</td><td>FALSE</td><td>FALSE</td><td>FALSE</td><td>FALSE</td><td>FALSE</td><td>FALSE</td></tr>\n",
       "\t<tr><td>FALSE</td><td>FALSE</td><td>FALSE</td><td>FALSE</td><td>FALSE</td><td>FALSE</td><td>FALSE</td><td>FALSE</td><td>FALSE</td><td>FALSE</td><td>...  </td><td>FALSE</td><td>FALSE</td><td>FALSE</td><td>FALSE</td><td>FALSE</td><td>FALSE</td><td>FALSE</td><td>FALSE</td><td>FALSE</td><td>FALSE</td></tr>\n",
       "\t<tr><td>FALSE</td><td>FALSE</td><td>FALSE</td><td>FALSE</td><td>FALSE</td><td>FALSE</td><td>FALSE</td><td>FALSE</td><td>FALSE</td><td>FALSE</td><td>...  </td><td>FALSE</td><td>FALSE</td><td>FALSE</td><td>FALSE</td><td>FALSE</td><td>FALSE</td><td>FALSE</td><td>FALSE</td><td>FALSE</td><td>FALSE</td></tr>\n",
       "\t<tr><td>FALSE</td><td>FALSE</td><td>FALSE</td><td>FALSE</td><td>FALSE</td><td>FALSE</td><td>FALSE</td><td>FALSE</td><td>FALSE</td><td>FALSE</td><td>...  </td><td>FALSE</td><td>FALSE</td><td>FALSE</td><td>FALSE</td><td>FALSE</td><td>FALSE</td><td>FALSE</td><td>FALSE</td><td>FALSE</td><td>FALSE</td></tr>\n",
       "\t<tr><td>FALSE</td><td>FALSE</td><td>FALSE</td><td>FALSE</td><td>FALSE</td><td>FALSE</td><td>FALSE</td><td>FALSE</td><td>FALSE</td><td>FALSE</td><td>...  </td><td>FALSE</td><td>FALSE</td><td>FALSE</td><td>FALSE</td><td>FALSE</td><td>FALSE</td><td>FALSE</td><td>FALSE</td><td>FALSE</td><td>FALSE</td></tr>\n",
       "\t<tr><td>FALSE</td><td>FALSE</td><td>FALSE</td><td>FALSE</td><td>FALSE</td><td>FALSE</td><td>FALSE</td><td>FALSE</td><td>FALSE</td><td>FALSE</td><td>...  </td><td>FALSE</td><td>FALSE</td><td>FALSE</td><td>FALSE</td><td>FALSE</td><td>FALSE</td><td>FALSE</td><td>FALSE</td><td>FALSE</td><td>FALSE</td></tr>\n",
       "\t<tr><td>FALSE</td><td>FALSE</td><td>FALSE</td><td>FALSE</td><td>FALSE</td><td>FALSE</td><td>FALSE</td><td>FALSE</td><td>FALSE</td><td>FALSE</td><td>...  </td><td>FALSE</td><td>FALSE</td><td>FALSE</td><td>FALSE</td><td>FALSE</td><td>FALSE</td><td>FALSE</td><td>FALSE</td><td>FALSE</td><td>FALSE</td></tr>\n",
       "\t<tr><td>FALSE</td><td>FALSE</td><td>FALSE</td><td>FALSE</td><td>FALSE</td><td>FALSE</td><td>FALSE</td><td>FALSE</td><td>FALSE</td><td>FALSE</td><td>...  </td><td>FALSE</td><td>FALSE</td><td>FALSE</td><td>FALSE</td><td>FALSE</td><td>FALSE</td><td>FALSE</td><td>FALSE</td><td>FALSE</td><td>FALSE</td></tr>\n",
       "\t<tr><td>FALSE</td><td>FALSE</td><td>FALSE</td><td>FALSE</td><td>FALSE</td><td>FALSE</td><td>FALSE</td><td>FALSE</td><td>FALSE</td><td>FALSE</td><td>...  </td><td>FALSE</td><td>FALSE</td><td>FALSE</td><td>FALSE</td><td>FALSE</td><td>FALSE</td><td>FALSE</td><td>FALSE</td><td>FALSE</td><td>FALSE</td></tr>\n",
       "\t<tr><td>FALSE</td><td>FALSE</td><td>FALSE</td><td>FALSE</td><td>FALSE</td><td>FALSE</td><td>FALSE</td><td>FALSE</td><td>FALSE</td><td>FALSE</td><td>...  </td><td>FALSE</td><td>FALSE</td><td>FALSE</td><td>FALSE</td><td>FALSE</td><td>FALSE</td><td>FALSE</td><td>FALSE</td><td>FALSE</td><td>FALSE</td></tr>\n",
       "\t<tr><td>FALSE</td><td>FALSE</td><td>FALSE</td><td>FALSE</td><td>FALSE</td><td>FALSE</td><td>FALSE</td><td>FALSE</td><td>FALSE</td><td>FALSE</td><td>...  </td><td>FALSE</td><td>FALSE</td><td>FALSE</td><td>FALSE</td><td>FALSE</td><td>FALSE</td><td>FALSE</td><td>FALSE</td><td>FALSE</td><td>FALSE</td></tr>\n",
       "\t<tr><td>FALSE</td><td>FALSE</td><td>FALSE</td><td>FALSE</td><td>FALSE</td><td>FALSE</td><td>FALSE</td><td>FALSE</td><td>FALSE</td><td>FALSE</td><td>...  </td><td>FALSE</td><td>FALSE</td><td>FALSE</td><td>FALSE</td><td>FALSE</td><td>FALSE</td><td>FALSE</td><td>FALSE</td><td>FALSE</td><td>FALSE</td></tr>\n",
       "\t<tr><td>FALSE</td><td>FALSE</td><td>FALSE</td><td>FALSE</td><td>FALSE</td><td>FALSE</td><td>FALSE</td><td>FALSE</td><td>FALSE</td><td>FALSE</td><td>...  </td><td>FALSE</td><td>FALSE</td><td>FALSE</td><td>FALSE</td><td>FALSE</td><td>FALSE</td><td>FALSE</td><td>FALSE</td><td>FALSE</td><td>FALSE</td></tr>\n",
       "\t<tr><td>FALSE</td><td>FALSE</td><td>FALSE</td><td>FALSE</td><td>FALSE</td><td>FALSE</td><td>FALSE</td><td>FALSE</td><td>FALSE</td><td>FALSE</td><td>...  </td><td>FALSE</td><td>FALSE</td><td>FALSE</td><td>FALSE</td><td>FALSE</td><td>FALSE</td><td>FALSE</td><td>FALSE</td><td>FALSE</td><td>FALSE</td></tr>\n",
       "\t<tr><td>FALSE</td><td>FALSE</td><td>FALSE</td><td>FALSE</td><td>FALSE</td><td>FALSE</td><td>FALSE</td><td>FALSE</td><td>FALSE</td><td>FALSE</td><td>...  </td><td>FALSE</td><td>FALSE</td><td>FALSE</td><td>FALSE</td><td>FALSE</td><td>FALSE</td><td>FALSE</td><td>FALSE</td><td>FALSE</td><td>FALSE</td></tr>\n",
       "\t<tr><td>FALSE</td><td>FALSE</td><td>FALSE</td><td>FALSE</td><td>FALSE</td><td>FALSE</td><td>FALSE</td><td>FALSE</td><td>FALSE</td><td>FALSE</td><td>...  </td><td>FALSE</td><td>FALSE</td><td>FALSE</td><td>FALSE</td><td>FALSE</td><td>FALSE</td><td>FALSE</td><td>FALSE</td><td>FALSE</td><td>FALSE</td></tr>\n",
       "\t<tr><td>FALSE</td><td>FALSE</td><td>FALSE</td><td>FALSE</td><td>FALSE</td><td>FALSE</td><td>FALSE</td><td>FALSE</td><td>FALSE</td><td>FALSE</td><td>...  </td><td>FALSE</td><td>FALSE</td><td>FALSE</td><td>FALSE</td><td>FALSE</td><td>FALSE</td><td>FALSE</td><td>FALSE</td><td>FALSE</td><td>FALSE</td></tr>\n",
       "\t<tr><td>FALSE</td><td>FALSE</td><td>FALSE</td><td>FALSE</td><td>FALSE</td><td>FALSE</td><td>FALSE</td><td>FALSE</td><td>FALSE</td><td>FALSE</td><td>...  </td><td>FALSE</td><td>FALSE</td><td>FALSE</td><td>FALSE</td><td>FALSE</td><td>FALSE</td><td>FALSE</td><td>FALSE</td><td>FALSE</td><td>FALSE</td></tr>\n",
       "\t<tr><td>FALSE</td><td>FALSE</td><td>FALSE</td><td>FALSE</td><td>FALSE</td><td>FALSE</td><td>FALSE</td><td>FALSE</td><td>FALSE</td><td>FALSE</td><td>...  </td><td>FALSE</td><td>FALSE</td><td>FALSE</td><td>FALSE</td><td>FALSE</td><td>FALSE</td><td>FALSE</td><td>FALSE</td><td>FALSE</td><td>FALSE</td></tr>\n",
       "\t<tr><td>FALSE</td><td>FALSE</td><td>FALSE</td><td>FALSE</td><td>FALSE</td><td>FALSE</td><td>FALSE</td><td>FALSE</td><td>FALSE</td><td>FALSE</td><td>...  </td><td>FALSE</td><td>FALSE</td><td>FALSE</td><td>FALSE</td><td>FALSE</td><td>FALSE</td><td>FALSE</td><td>FALSE</td><td>FALSE</td><td>FALSE</td></tr>\n",
       "\t<tr><td>FALSE</td><td>FALSE</td><td>FALSE</td><td>FALSE</td><td>FALSE</td><td>FALSE</td><td>FALSE</td><td>FALSE</td><td>FALSE</td><td>FALSE</td><td>...  </td><td>FALSE</td><td>FALSE</td><td>FALSE</td><td>FALSE</td><td>FALSE</td><td>FALSE</td><td>FALSE</td><td>FALSE</td><td>FALSE</td><td>FALSE</td></tr>\n",
       "\t<tr><td>FALSE</td><td>FALSE</td><td>FALSE</td><td>FALSE</td><td>FALSE</td><td>FALSE</td><td>FALSE</td><td>FALSE</td><td>FALSE</td><td>FALSE</td><td>...  </td><td>FALSE</td><td>FALSE</td><td>FALSE</td><td>FALSE</td><td>FALSE</td><td>FALSE</td><td>FALSE</td><td>FALSE</td><td>FALSE</td><td>FALSE</td></tr>\n",
       "\t<tr><td>FALSE</td><td>FALSE</td><td>FALSE</td><td>FALSE</td><td>FALSE</td><td>FALSE</td><td>FALSE</td><td>FALSE</td><td>FALSE</td><td>FALSE</td><td>...  </td><td>FALSE</td><td>FALSE</td><td>FALSE</td><td>FALSE</td><td>FALSE</td><td>FALSE</td><td>FALSE</td><td>FALSE</td><td>FALSE</td><td>FALSE</td></tr>\n",
       "\t<tr><td>FALSE</td><td>FALSE</td><td>FALSE</td><td>FALSE</td><td>FALSE</td><td>FALSE</td><td>FALSE</td><td>FALSE</td><td>FALSE</td><td>FALSE</td><td>...  </td><td>FALSE</td><td>FALSE</td><td>FALSE</td><td>FALSE</td><td>FALSE</td><td>FALSE</td><td>FALSE</td><td>FALSE</td><td>FALSE</td><td>FALSE</td></tr>\n",
       "\t<tr><td>FALSE</td><td>FALSE</td><td>FALSE</td><td>FALSE</td><td>FALSE</td><td>FALSE</td><td>FALSE</td><td>FALSE</td><td>FALSE</td><td>FALSE</td><td>...  </td><td>FALSE</td><td>FALSE</td><td>FALSE</td><td>FALSE</td><td>FALSE</td><td>FALSE</td><td>FALSE</td><td>FALSE</td><td>FALSE</td><td>FALSE</td></tr>\n",
       "\t<tr><td>FALSE</td><td>FALSE</td><td>FALSE</td><td>FALSE</td><td>FALSE</td><td>FALSE</td><td>FALSE</td><td>FALSE</td><td>FALSE</td><td>FALSE</td><td>...  </td><td>FALSE</td><td>FALSE</td><td>FALSE</td><td>FALSE</td><td>FALSE</td><td>FALSE</td><td>FALSE</td><td>FALSE</td><td>FALSE</td><td>FALSE</td></tr>\n",
       "\t<tr><td>FALSE</td><td>FALSE</td><td>FALSE</td><td>FALSE</td><td>FALSE</td><td>FALSE</td><td>FALSE</td><td>FALSE</td><td>FALSE</td><td>FALSE</td><td>...  </td><td>FALSE</td><td>FALSE</td><td>FALSE</td><td>FALSE</td><td>FALSE</td><td>FALSE</td><td>FALSE</td><td>FALSE</td><td>FALSE</td><td>FALSE</td></tr>\n",
       "\t<tr><td>...</td><td>...</td><td>...</td><td>...</td><td>...</td><td>...</td><td>...</td><td>...</td><td>...</td><td>...</td><td>   </td><td>...</td><td>...</td><td>...</td><td>...</td><td>...</td><td>...</td><td>...</td><td>...</td><td>...</td><td>...</td></tr>\n",
       "\t<tr><td>FALSE</td><td>FALSE</td><td>FALSE</td><td>FALSE</td><td>FALSE</td><td>FALSE</td><td>FALSE</td><td>FALSE</td><td>FALSE</td><td>FALSE</td><td>...  </td><td>FALSE</td><td>FALSE</td><td>FALSE</td><td>FALSE</td><td>FALSE</td><td>FALSE</td><td>FALSE</td><td>FALSE</td><td>FALSE</td><td>FALSE</td></tr>\n",
       "\t<tr><td>FALSE</td><td>FALSE</td><td>FALSE</td><td>FALSE</td><td>FALSE</td><td>FALSE</td><td>FALSE</td><td>FALSE</td><td>FALSE</td><td>FALSE</td><td>...  </td><td>FALSE</td><td>FALSE</td><td>FALSE</td><td>FALSE</td><td>FALSE</td><td>FALSE</td><td>FALSE</td><td>FALSE</td><td>FALSE</td><td>FALSE</td></tr>\n",
       "\t<tr><td>FALSE</td><td>FALSE</td><td>FALSE</td><td>FALSE</td><td>FALSE</td><td>FALSE</td><td>FALSE</td><td>FALSE</td><td>FALSE</td><td>FALSE</td><td>...  </td><td>FALSE</td><td>FALSE</td><td>FALSE</td><td>FALSE</td><td>FALSE</td><td>FALSE</td><td>FALSE</td><td>FALSE</td><td>FALSE</td><td>FALSE</td></tr>\n",
       "\t<tr><td>FALSE</td><td>FALSE</td><td>FALSE</td><td>FALSE</td><td>FALSE</td><td>FALSE</td><td>FALSE</td><td>FALSE</td><td>FALSE</td><td>FALSE</td><td>...  </td><td>FALSE</td><td>FALSE</td><td>FALSE</td><td>FALSE</td><td>FALSE</td><td>FALSE</td><td>FALSE</td><td>FALSE</td><td>FALSE</td><td>FALSE</td></tr>\n",
       "\t<tr><td>FALSE</td><td>FALSE</td><td>FALSE</td><td>FALSE</td><td>FALSE</td><td>FALSE</td><td>FALSE</td><td>FALSE</td><td>FALSE</td><td>FALSE</td><td>...  </td><td>FALSE</td><td>FALSE</td><td>FALSE</td><td>FALSE</td><td>FALSE</td><td>FALSE</td><td>FALSE</td><td>FALSE</td><td>FALSE</td><td>FALSE</td></tr>\n",
       "\t<tr><td>FALSE</td><td>FALSE</td><td>FALSE</td><td>FALSE</td><td>FALSE</td><td>FALSE</td><td>FALSE</td><td>FALSE</td><td>FALSE</td><td>FALSE</td><td>...  </td><td>FALSE</td><td>FALSE</td><td>FALSE</td><td>FALSE</td><td>FALSE</td><td>FALSE</td><td>FALSE</td><td>FALSE</td><td>FALSE</td><td>FALSE</td></tr>\n",
       "\t<tr><td>FALSE</td><td>FALSE</td><td>FALSE</td><td>FALSE</td><td>FALSE</td><td>FALSE</td><td>FALSE</td><td>FALSE</td><td>FALSE</td><td>FALSE</td><td>...  </td><td>FALSE</td><td>FALSE</td><td>FALSE</td><td>FALSE</td><td>FALSE</td><td>FALSE</td><td>FALSE</td><td>FALSE</td><td>FALSE</td><td>FALSE</td></tr>\n",
       "\t<tr><td>FALSE</td><td>FALSE</td><td>FALSE</td><td>FALSE</td><td>FALSE</td><td>FALSE</td><td>FALSE</td><td>FALSE</td><td>FALSE</td><td>FALSE</td><td>...  </td><td>FALSE</td><td>FALSE</td><td>FALSE</td><td>FALSE</td><td>FALSE</td><td>FALSE</td><td>FALSE</td><td>FALSE</td><td>FALSE</td><td>FALSE</td></tr>\n",
       "\t<tr><td>FALSE</td><td>FALSE</td><td>FALSE</td><td>FALSE</td><td>FALSE</td><td>FALSE</td><td>FALSE</td><td>FALSE</td><td>FALSE</td><td>FALSE</td><td>...  </td><td>FALSE</td><td>FALSE</td><td>FALSE</td><td>FALSE</td><td>FALSE</td><td>FALSE</td><td>FALSE</td><td>FALSE</td><td>FALSE</td><td>FALSE</td></tr>\n",
       "\t<tr><td>FALSE</td><td>FALSE</td><td>FALSE</td><td>FALSE</td><td>FALSE</td><td>FALSE</td><td>FALSE</td><td>FALSE</td><td>FALSE</td><td>FALSE</td><td>...  </td><td>FALSE</td><td>FALSE</td><td>FALSE</td><td>FALSE</td><td>FALSE</td><td>FALSE</td><td>FALSE</td><td>FALSE</td><td>FALSE</td><td>FALSE</td></tr>\n",
       "\t<tr><td>FALSE</td><td>FALSE</td><td>FALSE</td><td>FALSE</td><td>FALSE</td><td>FALSE</td><td>FALSE</td><td>FALSE</td><td>FALSE</td><td>FALSE</td><td>...  </td><td>FALSE</td><td>FALSE</td><td>FALSE</td><td>FALSE</td><td>FALSE</td><td>FALSE</td><td>FALSE</td><td>FALSE</td><td>FALSE</td><td>FALSE</td></tr>\n",
       "\t<tr><td>FALSE</td><td>FALSE</td><td>FALSE</td><td>FALSE</td><td>FALSE</td><td>FALSE</td><td>FALSE</td><td>FALSE</td><td>FALSE</td><td>FALSE</td><td>...  </td><td>FALSE</td><td>FALSE</td><td>FALSE</td><td>FALSE</td><td>FALSE</td><td>FALSE</td><td>FALSE</td><td>FALSE</td><td>FALSE</td><td>FALSE</td></tr>\n",
       "\t<tr><td>FALSE</td><td>FALSE</td><td>FALSE</td><td>FALSE</td><td>FALSE</td><td>FALSE</td><td>FALSE</td><td>FALSE</td><td>FALSE</td><td>FALSE</td><td>...  </td><td>FALSE</td><td>FALSE</td><td>FALSE</td><td>FALSE</td><td>FALSE</td><td>FALSE</td><td>FALSE</td><td>FALSE</td><td>FALSE</td><td>FALSE</td></tr>\n",
       "\t<tr><td>FALSE</td><td>FALSE</td><td>FALSE</td><td>FALSE</td><td>FALSE</td><td>FALSE</td><td>FALSE</td><td>FALSE</td><td>FALSE</td><td>FALSE</td><td>...  </td><td>FALSE</td><td>FALSE</td><td>FALSE</td><td>FALSE</td><td>FALSE</td><td>FALSE</td><td>FALSE</td><td>FALSE</td><td>FALSE</td><td>FALSE</td></tr>\n",
       "\t<tr><td>FALSE</td><td>FALSE</td><td>FALSE</td><td>FALSE</td><td>FALSE</td><td>FALSE</td><td>FALSE</td><td>FALSE</td><td>FALSE</td><td>FALSE</td><td>...  </td><td>FALSE</td><td>FALSE</td><td>FALSE</td><td>FALSE</td><td>FALSE</td><td>FALSE</td><td>FALSE</td><td>FALSE</td><td>FALSE</td><td>FALSE</td></tr>\n",
       "\t<tr><td>FALSE</td><td>FALSE</td><td>FALSE</td><td>FALSE</td><td>FALSE</td><td>FALSE</td><td>FALSE</td><td>FALSE</td><td>FALSE</td><td>FALSE</td><td>...  </td><td>FALSE</td><td>FALSE</td><td>FALSE</td><td>FALSE</td><td>FALSE</td><td>FALSE</td><td>FALSE</td><td>FALSE</td><td>FALSE</td><td>FALSE</td></tr>\n",
       "\t<tr><td>FALSE</td><td>FALSE</td><td>FALSE</td><td>FALSE</td><td>FALSE</td><td>FALSE</td><td>FALSE</td><td>FALSE</td><td>FALSE</td><td>FALSE</td><td>...  </td><td>FALSE</td><td>FALSE</td><td>FALSE</td><td>FALSE</td><td>FALSE</td><td>FALSE</td><td>FALSE</td><td>FALSE</td><td>FALSE</td><td>FALSE</td></tr>\n",
       "\t<tr><td>FALSE</td><td>FALSE</td><td>FALSE</td><td>FALSE</td><td>FALSE</td><td>FALSE</td><td>FALSE</td><td>FALSE</td><td>FALSE</td><td>FALSE</td><td>...  </td><td>FALSE</td><td>FALSE</td><td>FALSE</td><td>FALSE</td><td>FALSE</td><td>FALSE</td><td>FALSE</td><td>FALSE</td><td>FALSE</td><td>FALSE</td></tr>\n",
       "\t<tr><td>FALSE</td><td>FALSE</td><td>FALSE</td><td>FALSE</td><td>FALSE</td><td>FALSE</td><td>FALSE</td><td>FALSE</td><td>FALSE</td><td>FALSE</td><td>...  </td><td>FALSE</td><td>FALSE</td><td>FALSE</td><td>FALSE</td><td>FALSE</td><td>FALSE</td><td>FALSE</td><td>FALSE</td><td>FALSE</td><td>FALSE</td></tr>\n",
       "\t<tr><td>FALSE</td><td>FALSE</td><td>FALSE</td><td>FALSE</td><td>FALSE</td><td>FALSE</td><td>FALSE</td><td>FALSE</td><td>FALSE</td><td>FALSE</td><td>...  </td><td>FALSE</td><td>FALSE</td><td>FALSE</td><td>FALSE</td><td>FALSE</td><td>FALSE</td><td>FALSE</td><td>FALSE</td><td>FALSE</td><td>FALSE</td></tr>\n",
       "\t<tr><td>FALSE</td><td>FALSE</td><td>FALSE</td><td>FALSE</td><td>FALSE</td><td>FALSE</td><td>FALSE</td><td>FALSE</td><td>FALSE</td><td>FALSE</td><td>...  </td><td>FALSE</td><td>FALSE</td><td>FALSE</td><td>FALSE</td><td>FALSE</td><td>FALSE</td><td>FALSE</td><td>FALSE</td><td>FALSE</td><td>FALSE</td></tr>\n",
       "\t<tr><td>FALSE</td><td>FALSE</td><td>FALSE</td><td>FALSE</td><td>FALSE</td><td>FALSE</td><td>FALSE</td><td>FALSE</td><td>FALSE</td><td>FALSE</td><td>...  </td><td>FALSE</td><td>FALSE</td><td>FALSE</td><td>FALSE</td><td>FALSE</td><td>FALSE</td><td>FALSE</td><td>FALSE</td><td>FALSE</td><td>FALSE</td></tr>\n",
       "\t<tr><td>FALSE</td><td>FALSE</td><td>FALSE</td><td>FALSE</td><td>FALSE</td><td>FALSE</td><td>FALSE</td><td>FALSE</td><td>FALSE</td><td>FALSE</td><td>...  </td><td>FALSE</td><td>FALSE</td><td>FALSE</td><td>FALSE</td><td>FALSE</td><td>FALSE</td><td>FALSE</td><td>FALSE</td><td>FALSE</td><td>FALSE</td></tr>\n",
       "\t<tr><td>FALSE</td><td>FALSE</td><td>FALSE</td><td>FALSE</td><td>FALSE</td><td>FALSE</td><td>FALSE</td><td>FALSE</td><td>FALSE</td><td>FALSE</td><td>...  </td><td>FALSE</td><td>FALSE</td><td>FALSE</td><td>FALSE</td><td>FALSE</td><td>FALSE</td><td>FALSE</td><td>FALSE</td><td>FALSE</td><td>FALSE</td></tr>\n",
       "\t<tr><td>FALSE</td><td>FALSE</td><td>FALSE</td><td>FALSE</td><td>FALSE</td><td>FALSE</td><td>FALSE</td><td>FALSE</td><td>FALSE</td><td>FALSE</td><td>...  </td><td>FALSE</td><td>FALSE</td><td>FALSE</td><td>FALSE</td><td>FALSE</td><td>FALSE</td><td>FALSE</td><td>FALSE</td><td>FALSE</td><td>FALSE</td></tr>\n",
       "\t<tr><td>FALSE</td><td>FALSE</td><td>FALSE</td><td>FALSE</td><td>FALSE</td><td>FALSE</td><td>FALSE</td><td>FALSE</td><td>FALSE</td><td>FALSE</td><td>...  </td><td>FALSE</td><td>FALSE</td><td>FALSE</td><td>FALSE</td><td>FALSE</td><td>FALSE</td><td>FALSE</td><td>FALSE</td><td>FALSE</td><td>FALSE</td></tr>\n",
       "\t<tr><td>FALSE</td><td>FALSE</td><td>FALSE</td><td>FALSE</td><td>FALSE</td><td>FALSE</td><td>FALSE</td><td>FALSE</td><td>FALSE</td><td>FALSE</td><td>...  </td><td>FALSE</td><td>FALSE</td><td>FALSE</td><td>FALSE</td><td>FALSE</td><td>FALSE</td><td>FALSE</td><td>FALSE</td><td>FALSE</td><td>FALSE</td></tr>\n",
       "\t<tr><td>FALSE</td><td>FALSE</td><td>FALSE</td><td>FALSE</td><td>FALSE</td><td>FALSE</td><td>FALSE</td><td>FALSE</td><td>FALSE</td><td>FALSE</td><td>...  </td><td>FALSE</td><td>FALSE</td><td>FALSE</td><td>FALSE</td><td>FALSE</td><td>FALSE</td><td>FALSE</td><td>FALSE</td><td>FALSE</td><td>FALSE</td></tr>\n",
       "\t<tr><td>FALSE</td><td>FALSE</td><td>FALSE</td><td>FALSE</td><td>FALSE</td><td>FALSE</td><td>FALSE</td><td>FALSE</td><td>FALSE</td><td>FALSE</td><td>...  </td><td>FALSE</td><td>FALSE</td><td>FALSE</td><td>FALSE</td><td>FALSE</td><td>FALSE</td><td>FALSE</td><td>FALSE</td><td>FALSE</td><td>FALSE</td></tr>\n",
       "\t<tr><td>FALSE</td><td>FALSE</td><td>FALSE</td><td>FALSE</td><td>FALSE</td><td>FALSE</td><td>FALSE</td><td>FALSE</td><td>FALSE</td><td>FALSE</td><td>...  </td><td>FALSE</td><td>FALSE</td><td>FALSE</td><td>FALSE</td><td>FALSE</td><td>FALSE</td><td>FALSE</td><td>FALSE</td><td>FALSE</td><td>FALSE</td></tr>\n",
       "</tbody>\n",
       "</table>\n"
      ],
      "text/latex": [
       "\\begin{tabular}{llllllllllllllllllllllllllllllllllllllllllllllllllllllllllllllllllllllllllllllllllllllllllllllllllllllllllllllllllllllllllllllllllllllllllllllllllllllllllll}\n",
       " nu\\_ano & co\\_grupo & co\\_ies & co\\_catad & co\\_orgac & co\\_munic\\_curso & co\\_uf\\_curso & co\\_regiao\\_curso & co\\_curso & nu\\_idade & ... & qe\\_i72 & qe\\_i73 & qe\\_i74 & qe\\_i75 & qe\\_i76 & qe\\_i77 & qe\\_i78 & qe\\_i79 & qe\\_i80 & qe\\_i81\\\\\n",
       "\\hline\n",
       "\t FALSE & FALSE & FALSE & FALSE & FALSE & FALSE & FALSE & FALSE & FALSE & FALSE & ...   & FALSE & FALSE & FALSE & FALSE & FALSE & FALSE & FALSE & FALSE & FALSE & FALSE\\\\\n",
       "\t FALSE & FALSE & FALSE & FALSE & FALSE & FALSE & FALSE & FALSE & FALSE & FALSE & ...   & FALSE & FALSE & FALSE & FALSE & FALSE & FALSE & FALSE & FALSE & FALSE & FALSE\\\\\n",
       "\t FALSE & FALSE & FALSE & FALSE & FALSE & FALSE & FALSE & FALSE & FALSE & FALSE & ...   & FALSE & FALSE & FALSE & FALSE & FALSE & FALSE & FALSE & FALSE & FALSE & FALSE\\\\\n",
       "\t FALSE & FALSE & FALSE & FALSE & FALSE & FALSE & FALSE & FALSE & FALSE & FALSE & ...   & FALSE & FALSE & FALSE & FALSE & FALSE & FALSE & FALSE & FALSE & FALSE & FALSE\\\\\n",
       "\t FALSE & FALSE & FALSE & FALSE & FALSE & FALSE & FALSE & FALSE & FALSE & FALSE & ...   & FALSE & FALSE & FALSE & FALSE & FALSE & FALSE & FALSE & FALSE & FALSE & FALSE\\\\\n",
       "\t FALSE & FALSE & FALSE & FALSE & FALSE & FALSE & FALSE & FALSE & FALSE & FALSE & ...   & FALSE & FALSE & FALSE & FALSE & FALSE & FALSE & FALSE & FALSE & FALSE & FALSE\\\\\n",
       "\t FALSE & FALSE & FALSE & FALSE & FALSE & FALSE & FALSE & FALSE & FALSE & FALSE & ...   & FALSE & FALSE & FALSE & FALSE & FALSE & FALSE & FALSE & FALSE & FALSE & FALSE\\\\\n",
       "\t FALSE & FALSE & FALSE & FALSE & FALSE & FALSE & FALSE & FALSE & FALSE & FALSE & ...   & FALSE & FALSE & FALSE & FALSE & FALSE & FALSE & FALSE & FALSE & FALSE & FALSE\\\\\n",
       "\t FALSE & FALSE & FALSE & FALSE & FALSE & FALSE & FALSE & FALSE & FALSE & FALSE & ...   & FALSE & FALSE & FALSE & FALSE & FALSE & FALSE & FALSE & FALSE & FALSE & FALSE\\\\\n",
       "\t FALSE & FALSE & FALSE & FALSE & FALSE & FALSE & FALSE & FALSE & FALSE & FALSE & ...   & FALSE & FALSE & FALSE & FALSE & FALSE & FALSE & FALSE & FALSE & FALSE & FALSE\\\\\n",
       "\t FALSE & FALSE & FALSE & FALSE & FALSE & FALSE & FALSE & FALSE & FALSE & FALSE & ...   & FALSE & FALSE & FALSE & FALSE & FALSE & FALSE & FALSE & FALSE & FALSE & FALSE\\\\\n",
       "\t FALSE & FALSE & FALSE & FALSE & FALSE & FALSE & FALSE & FALSE & FALSE & FALSE & ...   & FALSE & FALSE & FALSE & FALSE & FALSE & FALSE & FALSE & FALSE & FALSE & FALSE\\\\\n",
       "\t FALSE & FALSE & FALSE & FALSE & FALSE & FALSE & FALSE & FALSE & FALSE & FALSE & ...   & FALSE & FALSE & FALSE & FALSE & FALSE & FALSE & FALSE & FALSE & FALSE & FALSE\\\\\n",
       "\t FALSE & FALSE & FALSE & FALSE & FALSE & FALSE & FALSE & FALSE & FALSE & FALSE & ...   & FALSE & FALSE & FALSE & FALSE & FALSE & FALSE & FALSE & FALSE & FALSE & FALSE\\\\\n",
       "\t FALSE & FALSE & FALSE & FALSE & FALSE & FALSE & FALSE & FALSE & FALSE & FALSE & ...   & FALSE & FALSE & FALSE & FALSE & FALSE & FALSE & FALSE & FALSE & FALSE & FALSE\\\\\n",
       "\t FALSE & FALSE & FALSE & FALSE & FALSE & FALSE & FALSE & FALSE & FALSE & FALSE & ...   & FALSE & FALSE & FALSE & FALSE & FALSE & FALSE & FALSE & FALSE & FALSE & FALSE\\\\\n",
       "\t FALSE & FALSE & FALSE & FALSE & FALSE & FALSE & FALSE & FALSE & FALSE & FALSE & ...   & FALSE & FALSE & FALSE & FALSE & FALSE & FALSE & FALSE & FALSE & FALSE & FALSE\\\\\n",
       "\t FALSE & FALSE & FALSE & FALSE & FALSE & FALSE & FALSE & FALSE & FALSE & FALSE & ...   & FALSE & FALSE & FALSE & FALSE & FALSE & FALSE & FALSE & FALSE & FALSE & FALSE\\\\\n",
       "\t FALSE & FALSE & FALSE & FALSE & FALSE & FALSE & FALSE & FALSE & FALSE & FALSE & ...   & FALSE & FALSE & FALSE & FALSE & FALSE & FALSE & FALSE & FALSE & FALSE & FALSE\\\\\n",
       "\t FALSE & FALSE & FALSE & FALSE & FALSE & FALSE & FALSE & FALSE & FALSE & FALSE & ...   & FALSE & FALSE & FALSE & FALSE & FALSE & FALSE & FALSE & FALSE & FALSE & FALSE\\\\\n",
       "\t FALSE & FALSE & FALSE & FALSE & FALSE & FALSE & FALSE & FALSE & FALSE & FALSE & ...   & FALSE & FALSE & FALSE & FALSE & FALSE & FALSE & FALSE & FALSE & FALSE & FALSE\\\\\n",
       "\t FALSE & FALSE & FALSE & FALSE & FALSE & FALSE & FALSE & FALSE & FALSE & FALSE & ...   & FALSE & FALSE & FALSE & FALSE & FALSE & FALSE & FALSE & FALSE & FALSE & FALSE\\\\\n",
       "\t FALSE & FALSE & FALSE & FALSE & FALSE & FALSE & FALSE & FALSE & FALSE & FALSE & ...   & FALSE & FALSE & FALSE & FALSE & FALSE & FALSE & FALSE & FALSE & FALSE & FALSE\\\\\n",
       "\t FALSE & FALSE & FALSE & FALSE & FALSE & FALSE & FALSE & FALSE & FALSE & FALSE & ...   & FALSE & FALSE & FALSE & FALSE & FALSE & FALSE & FALSE & FALSE & FALSE & FALSE\\\\\n",
       "\t FALSE & FALSE & FALSE & FALSE & FALSE & FALSE & FALSE & FALSE & FALSE & FALSE & ...   & FALSE & FALSE & FALSE & FALSE & FALSE & FALSE & FALSE & FALSE & FALSE & FALSE\\\\\n",
       "\t FALSE & FALSE & FALSE & FALSE & FALSE & FALSE & FALSE & FALSE & FALSE & FALSE & ...   & FALSE & FALSE & FALSE & FALSE & FALSE & FALSE & FALSE & FALSE & FALSE & FALSE\\\\\n",
       "\t FALSE & FALSE & FALSE & FALSE & FALSE & FALSE & FALSE & FALSE & FALSE & FALSE & ...   & FALSE & FALSE & FALSE & FALSE & FALSE & FALSE & FALSE & FALSE & FALSE & FALSE\\\\\n",
       "\t FALSE & FALSE & FALSE & FALSE & FALSE & FALSE & FALSE & FALSE & FALSE & FALSE & ...   & FALSE & FALSE & FALSE & FALSE & FALSE & FALSE & FALSE & FALSE & FALSE & FALSE\\\\\n",
       "\t FALSE & FALSE & FALSE & FALSE & FALSE & FALSE & FALSE & FALSE & FALSE & FALSE & ...   & FALSE & FALSE & FALSE & FALSE & FALSE & FALSE & FALSE & FALSE & FALSE & FALSE\\\\\n",
       "\t FALSE & FALSE & FALSE & FALSE & FALSE & FALSE & FALSE & FALSE & FALSE & FALSE & ...   & FALSE & FALSE & FALSE & FALSE & FALSE & FALSE & FALSE & FALSE & FALSE & FALSE\\\\\n",
       "\t ... & ... & ... & ... & ... & ... & ... & ... & ... & ... &     & ... & ... & ... & ... & ... & ... & ... & ... & ... & ...\\\\\n",
       "\t FALSE & FALSE & FALSE & FALSE & FALSE & FALSE & FALSE & FALSE & FALSE & FALSE & ...   & FALSE & FALSE & FALSE & FALSE & FALSE & FALSE & FALSE & FALSE & FALSE & FALSE\\\\\n",
       "\t FALSE & FALSE & FALSE & FALSE & FALSE & FALSE & FALSE & FALSE & FALSE & FALSE & ...   & FALSE & FALSE & FALSE & FALSE & FALSE & FALSE & FALSE & FALSE & FALSE & FALSE\\\\\n",
       "\t FALSE & FALSE & FALSE & FALSE & FALSE & FALSE & FALSE & FALSE & FALSE & FALSE & ...   & FALSE & FALSE & FALSE & FALSE & FALSE & FALSE & FALSE & FALSE & FALSE & FALSE\\\\\n",
       "\t FALSE & FALSE & FALSE & FALSE & FALSE & FALSE & FALSE & FALSE & FALSE & FALSE & ...   & FALSE & FALSE & FALSE & FALSE & FALSE & FALSE & FALSE & FALSE & FALSE & FALSE\\\\\n",
       "\t FALSE & FALSE & FALSE & FALSE & FALSE & FALSE & FALSE & FALSE & FALSE & FALSE & ...   & FALSE & FALSE & FALSE & FALSE & FALSE & FALSE & FALSE & FALSE & FALSE & FALSE\\\\\n",
       "\t FALSE & FALSE & FALSE & FALSE & FALSE & FALSE & FALSE & FALSE & FALSE & FALSE & ...   & FALSE & FALSE & FALSE & FALSE & FALSE & FALSE & FALSE & FALSE & FALSE & FALSE\\\\\n",
       "\t FALSE & FALSE & FALSE & FALSE & FALSE & FALSE & FALSE & FALSE & FALSE & FALSE & ...   & FALSE & FALSE & FALSE & FALSE & FALSE & FALSE & FALSE & FALSE & FALSE & FALSE\\\\\n",
       "\t FALSE & FALSE & FALSE & FALSE & FALSE & FALSE & FALSE & FALSE & FALSE & FALSE & ...   & FALSE & FALSE & FALSE & FALSE & FALSE & FALSE & FALSE & FALSE & FALSE & FALSE\\\\\n",
       "\t FALSE & FALSE & FALSE & FALSE & FALSE & FALSE & FALSE & FALSE & FALSE & FALSE & ...   & FALSE & FALSE & FALSE & FALSE & FALSE & FALSE & FALSE & FALSE & FALSE & FALSE\\\\\n",
       "\t FALSE & FALSE & FALSE & FALSE & FALSE & FALSE & FALSE & FALSE & FALSE & FALSE & ...   & FALSE & FALSE & FALSE & FALSE & FALSE & FALSE & FALSE & FALSE & FALSE & FALSE\\\\\n",
       "\t FALSE & FALSE & FALSE & FALSE & FALSE & FALSE & FALSE & FALSE & FALSE & FALSE & ...   & FALSE & FALSE & FALSE & FALSE & FALSE & FALSE & FALSE & FALSE & FALSE & FALSE\\\\\n",
       "\t FALSE & FALSE & FALSE & FALSE & FALSE & FALSE & FALSE & FALSE & FALSE & FALSE & ...   & FALSE & FALSE & FALSE & FALSE & FALSE & FALSE & FALSE & FALSE & FALSE & FALSE\\\\\n",
       "\t FALSE & FALSE & FALSE & FALSE & FALSE & FALSE & FALSE & FALSE & FALSE & FALSE & ...   & FALSE & FALSE & FALSE & FALSE & FALSE & FALSE & FALSE & FALSE & FALSE & FALSE\\\\\n",
       "\t FALSE & FALSE & FALSE & FALSE & FALSE & FALSE & FALSE & FALSE & FALSE & FALSE & ...   & FALSE & FALSE & FALSE & FALSE & FALSE & FALSE & FALSE & FALSE & FALSE & FALSE\\\\\n",
       "\t FALSE & FALSE & FALSE & FALSE & FALSE & FALSE & FALSE & FALSE & FALSE & FALSE & ...   & FALSE & FALSE & FALSE & FALSE & FALSE & FALSE & FALSE & FALSE & FALSE & FALSE\\\\\n",
       "\t FALSE & FALSE & FALSE & FALSE & FALSE & FALSE & FALSE & FALSE & FALSE & FALSE & ...   & FALSE & FALSE & FALSE & FALSE & FALSE & FALSE & FALSE & FALSE & FALSE & FALSE\\\\\n",
       "\t FALSE & FALSE & FALSE & FALSE & FALSE & FALSE & FALSE & FALSE & FALSE & FALSE & ...   & FALSE & FALSE & FALSE & FALSE & FALSE & FALSE & FALSE & FALSE & FALSE & FALSE\\\\\n",
       "\t FALSE & FALSE & FALSE & FALSE & FALSE & FALSE & FALSE & FALSE & FALSE & FALSE & ...   & FALSE & FALSE & FALSE & FALSE & FALSE & FALSE & FALSE & FALSE & FALSE & FALSE\\\\\n",
       "\t FALSE & FALSE & FALSE & FALSE & FALSE & FALSE & FALSE & FALSE & FALSE & FALSE & ...   & FALSE & FALSE & FALSE & FALSE & FALSE & FALSE & FALSE & FALSE & FALSE & FALSE\\\\\n",
       "\t FALSE & FALSE & FALSE & FALSE & FALSE & FALSE & FALSE & FALSE & FALSE & FALSE & ...   & FALSE & FALSE & FALSE & FALSE & FALSE & FALSE & FALSE & FALSE & FALSE & FALSE\\\\\n",
       "\t FALSE & FALSE & FALSE & FALSE & FALSE & FALSE & FALSE & FALSE & FALSE & FALSE & ...   & FALSE & FALSE & FALSE & FALSE & FALSE & FALSE & FALSE & FALSE & FALSE & FALSE\\\\\n",
       "\t FALSE & FALSE & FALSE & FALSE & FALSE & FALSE & FALSE & FALSE & FALSE & FALSE & ...   & FALSE & FALSE & FALSE & FALSE & FALSE & FALSE & FALSE & FALSE & FALSE & FALSE\\\\\n",
       "\t FALSE & FALSE & FALSE & FALSE & FALSE & FALSE & FALSE & FALSE & FALSE & FALSE & ...   & FALSE & FALSE & FALSE & FALSE & FALSE & FALSE & FALSE & FALSE & FALSE & FALSE\\\\\n",
       "\t FALSE & FALSE & FALSE & FALSE & FALSE & FALSE & FALSE & FALSE & FALSE & FALSE & ...   & FALSE & FALSE & FALSE & FALSE & FALSE & FALSE & FALSE & FALSE & FALSE & FALSE\\\\\n",
       "\t FALSE & FALSE & FALSE & FALSE & FALSE & FALSE & FALSE & FALSE & FALSE & FALSE & ...   & FALSE & FALSE & FALSE & FALSE & FALSE & FALSE & FALSE & FALSE & FALSE & FALSE\\\\\n",
       "\t FALSE & FALSE & FALSE & FALSE & FALSE & FALSE & FALSE & FALSE & FALSE & FALSE & ...   & FALSE & FALSE & FALSE & FALSE & FALSE & FALSE & FALSE & FALSE & FALSE & FALSE\\\\\n",
       "\t FALSE & FALSE & FALSE & FALSE & FALSE & FALSE & FALSE & FALSE & FALSE & FALSE & ...   & FALSE & FALSE & FALSE & FALSE & FALSE & FALSE & FALSE & FALSE & FALSE & FALSE\\\\\n",
       "\t FALSE & FALSE & FALSE & FALSE & FALSE & FALSE & FALSE & FALSE & FALSE & FALSE & ...   & FALSE & FALSE & FALSE & FALSE & FALSE & FALSE & FALSE & FALSE & FALSE & FALSE\\\\\n",
       "\t FALSE & FALSE & FALSE & FALSE & FALSE & FALSE & FALSE & FALSE & FALSE & FALSE & ...   & FALSE & FALSE & FALSE & FALSE & FALSE & FALSE & FALSE & FALSE & FALSE & FALSE\\\\\n",
       "\t FALSE & FALSE & FALSE & FALSE & FALSE & FALSE & FALSE & FALSE & FALSE & FALSE & ...   & FALSE & FALSE & FALSE & FALSE & FALSE & FALSE & FALSE & FALSE & FALSE & FALSE\\\\\n",
       "\\end{tabular}\n"
      ],
      "text/plain": [
       "      nu_ano co_grupo co_ies co_catad co_orgac co_munic_curso co_uf_curso\n",
       " [1,] FALSE  FALSE    FALSE  FALSE    FALSE    FALSE          FALSE      \n",
       " [2,] FALSE  FALSE    FALSE  FALSE    FALSE    FALSE          FALSE      \n",
       " [3,] FALSE  FALSE    FALSE  FALSE    FALSE    FALSE          FALSE      \n",
       " [4,] FALSE  FALSE    FALSE  FALSE    FALSE    FALSE          FALSE      \n",
       " [5,] FALSE  FALSE    FALSE  FALSE    FALSE    FALSE          FALSE      \n",
       " [6,] FALSE  FALSE    FALSE  FALSE    FALSE    FALSE          FALSE      \n",
       " [7,] FALSE  FALSE    FALSE  FALSE    FALSE    FALSE          FALSE      \n",
       " [8,] FALSE  FALSE    FALSE  FALSE    FALSE    FALSE          FALSE      \n",
       " [9,] FALSE  FALSE    FALSE  FALSE    FALSE    FALSE          FALSE      \n",
       "[10,] FALSE  FALSE    FALSE  FALSE    FALSE    FALSE          FALSE      \n",
       "[11,] FALSE  FALSE    FALSE  FALSE    FALSE    FALSE          FALSE      \n",
       "[12,] FALSE  FALSE    FALSE  FALSE    FALSE    FALSE          FALSE      \n",
       "[13,] FALSE  FALSE    FALSE  FALSE    FALSE    FALSE          FALSE      \n",
       "[14,] FALSE  FALSE    FALSE  FALSE    FALSE    FALSE          FALSE      \n",
       "[15,] FALSE  FALSE    FALSE  FALSE    FALSE    FALSE          FALSE      \n",
       "[16,] FALSE  FALSE    FALSE  FALSE    FALSE    FALSE          FALSE      \n",
       "[17,] FALSE  FALSE    FALSE  FALSE    FALSE    FALSE          FALSE      \n",
       "[18,] FALSE  FALSE    FALSE  FALSE    FALSE    FALSE          FALSE      \n",
       "[19,] FALSE  FALSE    FALSE  FALSE    FALSE    FALSE          FALSE      \n",
       "[20,] FALSE  FALSE    FALSE  FALSE    FALSE    FALSE          FALSE      \n",
       "[21,] FALSE  FALSE    FALSE  FALSE    FALSE    FALSE          FALSE      \n",
       "[22,] FALSE  FALSE    FALSE  FALSE    FALSE    FALSE          FALSE      \n",
       "[23,] FALSE  FALSE    FALSE  FALSE    FALSE    FALSE          FALSE      \n",
       "[24,] FALSE  FALSE    FALSE  FALSE    FALSE    FALSE          FALSE      \n",
       "[25,] FALSE  FALSE    FALSE  FALSE    FALSE    FALSE          FALSE      \n",
       "[26,] FALSE  FALSE    FALSE  FALSE    FALSE    FALSE          FALSE      \n",
       "[27,] FALSE  FALSE    FALSE  FALSE    FALSE    FALSE          FALSE      \n",
       "[28,] FALSE  FALSE    FALSE  FALSE    FALSE    FALSE          FALSE      \n",
       "[29,] FALSE  FALSE    FALSE  FALSE    FALSE    FALSE          FALSE      \n",
       "[30,] FALSE  FALSE    FALSE  FALSE    FALSE    FALSE          FALSE      \n",
       "[31,] ...    ...      ...    ...      ...      ...            ...        \n",
       "[32,] FALSE  FALSE    FALSE  FALSE    FALSE    FALSE          FALSE      \n",
       "[33,] FALSE  FALSE    FALSE  FALSE    FALSE    FALSE          FALSE      \n",
       "[34,] FALSE  FALSE    FALSE  FALSE    FALSE    FALSE          FALSE      \n",
       "[35,] FALSE  FALSE    FALSE  FALSE    FALSE    FALSE          FALSE      \n",
       "[36,] FALSE  FALSE    FALSE  FALSE    FALSE    FALSE          FALSE      \n",
       "[37,] FALSE  FALSE    FALSE  FALSE    FALSE    FALSE          FALSE      \n",
       "[38,] FALSE  FALSE    FALSE  FALSE    FALSE    FALSE          FALSE      \n",
       "[39,] FALSE  FALSE    FALSE  FALSE    FALSE    FALSE          FALSE      \n",
       "[40,] FALSE  FALSE    FALSE  FALSE    FALSE    FALSE          FALSE      \n",
       "[41,] FALSE  FALSE    FALSE  FALSE    FALSE    FALSE          FALSE      \n",
       "[42,] FALSE  FALSE    FALSE  FALSE    FALSE    FALSE          FALSE      \n",
       "[43,] FALSE  FALSE    FALSE  FALSE    FALSE    FALSE          FALSE      \n",
       "[44,] FALSE  FALSE    FALSE  FALSE    FALSE    FALSE          FALSE      \n",
       "[45,] FALSE  FALSE    FALSE  FALSE    FALSE    FALSE          FALSE      \n",
       "[46,] FALSE  FALSE    FALSE  FALSE    FALSE    FALSE          FALSE      \n",
       "[47,] FALSE  FALSE    FALSE  FALSE    FALSE    FALSE          FALSE      \n",
       "[48,] FALSE  FALSE    FALSE  FALSE    FALSE    FALSE          FALSE      \n",
       "[49,] FALSE  FALSE    FALSE  FALSE    FALSE    FALSE          FALSE      \n",
       "[50,] FALSE  FALSE    FALSE  FALSE    FALSE    FALSE          FALSE      \n",
       "[51,] FALSE  FALSE    FALSE  FALSE    FALSE    FALSE          FALSE      \n",
       "[52,] FALSE  FALSE    FALSE  FALSE    FALSE    FALSE          FALSE      \n",
       "[53,] FALSE  FALSE    FALSE  FALSE    FALSE    FALSE          FALSE      \n",
       "[54,] FALSE  FALSE    FALSE  FALSE    FALSE    FALSE          FALSE      \n",
       "[55,] FALSE  FALSE    FALSE  FALSE    FALSE    FALSE          FALSE      \n",
       "[56,] FALSE  FALSE    FALSE  FALSE    FALSE    FALSE          FALSE      \n",
       "[57,] FALSE  FALSE    FALSE  FALSE    FALSE    FALSE          FALSE      \n",
       "[58,] FALSE  FALSE    FALSE  FALSE    FALSE    FALSE          FALSE      \n",
       "[59,] FALSE  FALSE    FALSE  FALSE    FALSE    FALSE          FALSE      \n",
       "[60,] FALSE  FALSE    FALSE  FALSE    FALSE    FALSE          FALSE      \n",
       "[61,] FALSE  FALSE    FALSE  FALSE    FALSE    FALSE          FALSE      \n",
       "      co_regiao_curso co_curso nu_idade ... qe_i72 qe_i73 qe_i74 qe_i75 qe_i76\n",
       " [1,] FALSE           FALSE    FALSE    ... FALSE  FALSE  FALSE  FALSE  FALSE \n",
       " [2,] FALSE           FALSE    FALSE    ... FALSE  FALSE  FALSE  FALSE  FALSE \n",
       " [3,] FALSE           FALSE    FALSE    ... FALSE  FALSE  FALSE  FALSE  FALSE \n",
       " [4,] FALSE           FALSE    FALSE    ... FALSE  FALSE  FALSE  FALSE  FALSE \n",
       " [5,] FALSE           FALSE    FALSE    ... FALSE  FALSE  FALSE  FALSE  FALSE \n",
       " [6,] FALSE           FALSE    FALSE    ... FALSE  FALSE  FALSE  FALSE  FALSE \n",
       " [7,] FALSE           FALSE    FALSE    ... FALSE  FALSE  FALSE  FALSE  FALSE \n",
       " [8,] FALSE           FALSE    FALSE    ... FALSE  FALSE  FALSE  FALSE  FALSE \n",
       " [9,] FALSE           FALSE    FALSE    ... FALSE  FALSE  FALSE  FALSE  FALSE \n",
       "[10,] FALSE           FALSE    FALSE    ... FALSE  FALSE  FALSE  FALSE  FALSE \n",
       "[11,] FALSE           FALSE    FALSE    ... FALSE  FALSE  FALSE  FALSE  FALSE \n",
       "[12,] FALSE           FALSE    FALSE    ... FALSE  FALSE  FALSE  FALSE  FALSE \n",
       "[13,] FALSE           FALSE    FALSE    ... FALSE  FALSE  FALSE  FALSE  FALSE \n",
       "[14,] FALSE           FALSE    FALSE    ... FALSE  FALSE  FALSE  FALSE  FALSE \n",
       "[15,] FALSE           FALSE    FALSE    ... FALSE  FALSE  FALSE  FALSE  FALSE \n",
       "[16,] FALSE           FALSE    FALSE    ... FALSE  FALSE  FALSE  FALSE  FALSE \n",
       "[17,] FALSE           FALSE    FALSE    ... FALSE  FALSE  FALSE  FALSE  FALSE \n",
       "[18,] FALSE           FALSE    FALSE    ... FALSE  FALSE  FALSE  FALSE  FALSE \n",
       "[19,] FALSE           FALSE    FALSE    ... FALSE  FALSE  FALSE  FALSE  FALSE \n",
       "[20,] FALSE           FALSE    FALSE    ... FALSE  FALSE  FALSE  FALSE  FALSE \n",
       "[21,] FALSE           FALSE    FALSE    ... FALSE  FALSE  FALSE  FALSE  FALSE \n",
       "[22,] FALSE           FALSE    FALSE    ... FALSE  FALSE  FALSE  FALSE  FALSE \n",
       "[23,] FALSE           FALSE    FALSE    ... FALSE  FALSE  FALSE  FALSE  FALSE \n",
       "[24,] FALSE           FALSE    FALSE    ... FALSE  FALSE  FALSE  FALSE  FALSE \n",
       "[25,] FALSE           FALSE    FALSE    ... FALSE  FALSE  FALSE  FALSE  FALSE \n",
       "[26,] FALSE           FALSE    FALSE    ... FALSE  FALSE  FALSE  FALSE  FALSE \n",
       "[27,] FALSE           FALSE    FALSE    ... FALSE  FALSE  FALSE  FALSE  FALSE \n",
       "[28,] FALSE           FALSE    FALSE    ... FALSE  FALSE  FALSE  FALSE  FALSE \n",
       "[29,] FALSE           FALSE    FALSE    ... FALSE  FALSE  FALSE  FALSE  FALSE \n",
       "[30,] FALSE           FALSE    FALSE    ... FALSE  FALSE  FALSE  FALSE  FALSE \n",
       "[31,] ...             ...      ...          ...    ...    ...    ...    ...   \n",
       "[32,] FALSE           FALSE    FALSE    ... FALSE  FALSE  FALSE  FALSE  FALSE \n",
       "[33,] FALSE           FALSE    FALSE    ... FALSE  FALSE  FALSE  FALSE  FALSE \n",
       "[34,] FALSE           FALSE    FALSE    ... FALSE  FALSE  FALSE  FALSE  FALSE \n",
       "[35,] FALSE           FALSE    FALSE    ... FALSE  FALSE  FALSE  FALSE  FALSE \n",
       "[36,] FALSE           FALSE    FALSE    ... FALSE  FALSE  FALSE  FALSE  FALSE \n",
       "[37,] FALSE           FALSE    FALSE    ... FALSE  FALSE  FALSE  FALSE  FALSE \n",
       "[38,] FALSE           FALSE    FALSE    ... FALSE  FALSE  FALSE  FALSE  FALSE \n",
       "[39,] FALSE           FALSE    FALSE    ... FALSE  FALSE  FALSE  FALSE  FALSE \n",
       "[40,] FALSE           FALSE    FALSE    ... FALSE  FALSE  FALSE  FALSE  FALSE \n",
       "[41,] FALSE           FALSE    FALSE    ... FALSE  FALSE  FALSE  FALSE  FALSE \n",
       "[42,] FALSE           FALSE    FALSE    ... FALSE  FALSE  FALSE  FALSE  FALSE \n",
       "[43,] FALSE           FALSE    FALSE    ... FALSE  FALSE  FALSE  FALSE  FALSE \n",
       "[44,] FALSE           FALSE    FALSE    ... FALSE  FALSE  FALSE  FALSE  FALSE \n",
       "[45,] FALSE           FALSE    FALSE    ... FALSE  FALSE  FALSE  FALSE  FALSE \n",
       "[46,] FALSE           FALSE    FALSE    ... FALSE  FALSE  FALSE  FALSE  FALSE \n",
       "[47,] FALSE           FALSE    FALSE    ... FALSE  FALSE  FALSE  FALSE  FALSE \n",
       "[48,] FALSE           FALSE    FALSE    ... FALSE  FALSE  FALSE  FALSE  FALSE \n",
       "[49,] FALSE           FALSE    FALSE    ... FALSE  FALSE  FALSE  FALSE  FALSE \n",
       "[50,] FALSE           FALSE    FALSE    ... FALSE  FALSE  FALSE  FALSE  FALSE \n",
       "[51,] FALSE           FALSE    FALSE    ... FALSE  FALSE  FALSE  FALSE  FALSE \n",
       "[52,] FALSE           FALSE    FALSE    ... FALSE  FALSE  FALSE  FALSE  FALSE \n",
       "[53,] FALSE           FALSE    FALSE    ... FALSE  FALSE  FALSE  FALSE  FALSE \n",
       "[54,] FALSE           FALSE    FALSE    ... FALSE  FALSE  FALSE  FALSE  FALSE \n",
       "[55,] FALSE           FALSE    FALSE    ... FALSE  FALSE  FALSE  FALSE  FALSE \n",
       "[56,] FALSE           FALSE    FALSE    ... FALSE  FALSE  FALSE  FALSE  FALSE \n",
       "[57,] FALSE           FALSE    FALSE    ... FALSE  FALSE  FALSE  FALSE  FALSE \n",
       "[58,] FALSE           FALSE    FALSE    ... FALSE  FALSE  FALSE  FALSE  FALSE \n",
       "[59,] FALSE           FALSE    FALSE    ... FALSE  FALSE  FALSE  FALSE  FALSE \n",
       "[60,] FALSE           FALSE    FALSE    ... FALSE  FALSE  FALSE  FALSE  FALSE \n",
       "[61,] FALSE           FALSE    FALSE    ... FALSE  FALSE  FALSE  FALSE  FALSE \n",
       "      qe_i77 qe_i78 qe_i79 qe_i80 qe_i81\n",
       " [1,] FALSE  FALSE  FALSE  FALSE  FALSE \n",
       " [2,] FALSE  FALSE  FALSE  FALSE  FALSE \n",
       " [3,] FALSE  FALSE  FALSE  FALSE  FALSE \n",
       " [4,] FALSE  FALSE  FALSE  FALSE  FALSE \n",
       " [5,] FALSE  FALSE  FALSE  FALSE  FALSE \n",
       " [6,] FALSE  FALSE  FALSE  FALSE  FALSE \n",
       " [7,] FALSE  FALSE  FALSE  FALSE  FALSE \n",
       " [8,] FALSE  FALSE  FALSE  FALSE  FALSE \n",
       " [9,] FALSE  FALSE  FALSE  FALSE  FALSE \n",
       "[10,] FALSE  FALSE  FALSE  FALSE  FALSE \n",
       "[11,] FALSE  FALSE  FALSE  FALSE  FALSE \n",
       "[12,] FALSE  FALSE  FALSE  FALSE  FALSE \n",
       "[13,] FALSE  FALSE  FALSE  FALSE  FALSE \n",
       "[14,] FALSE  FALSE  FALSE  FALSE  FALSE \n",
       "[15,] FALSE  FALSE  FALSE  FALSE  FALSE \n",
       "[16,] FALSE  FALSE  FALSE  FALSE  FALSE \n",
       "[17,] FALSE  FALSE  FALSE  FALSE  FALSE \n",
       "[18,] FALSE  FALSE  FALSE  FALSE  FALSE \n",
       "[19,] FALSE  FALSE  FALSE  FALSE  FALSE \n",
       "[20,] FALSE  FALSE  FALSE  FALSE  FALSE \n",
       "[21,] FALSE  FALSE  FALSE  FALSE  FALSE \n",
       "[22,] FALSE  FALSE  FALSE  FALSE  FALSE \n",
       "[23,] FALSE  FALSE  FALSE  FALSE  FALSE \n",
       "[24,] FALSE  FALSE  FALSE  FALSE  FALSE \n",
       "[25,] FALSE  FALSE  FALSE  FALSE  FALSE \n",
       "[26,] FALSE  FALSE  FALSE  FALSE  FALSE \n",
       "[27,] FALSE  FALSE  FALSE  FALSE  FALSE \n",
       "[28,] FALSE  FALSE  FALSE  FALSE  FALSE \n",
       "[29,] FALSE  FALSE  FALSE  FALSE  FALSE \n",
       "[30,] FALSE  FALSE  FALSE  FALSE  FALSE \n",
       "[31,] ...    ...    ...    ...    ...   \n",
       "[32,] FALSE  FALSE  FALSE  FALSE  FALSE \n",
       "[33,] FALSE  FALSE  FALSE  FALSE  FALSE \n",
       "[34,] FALSE  FALSE  FALSE  FALSE  FALSE \n",
       "[35,] FALSE  FALSE  FALSE  FALSE  FALSE \n",
       "[36,] FALSE  FALSE  FALSE  FALSE  FALSE \n",
       "[37,] FALSE  FALSE  FALSE  FALSE  FALSE \n",
       "[38,] FALSE  FALSE  FALSE  FALSE  FALSE \n",
       "[39,] FALSE  FALSE  FALSE  FALSE  FALSE \n",
       "[40,] FALSE  FALSE  FALSE  FALSE  FALSE \n",
       "[41,] FALSE  FALSE  FALSE  FALSE  FALSE \n",
       "[42,] FALSE  FALSE  FALSE  FALSE  FALSE \n",
       "[43,] FALSE  FALSE  FALSE  FALSE  FALSE \n",
       "[44,] FALSE  FALSE  FALSE  FALSE  FALSE \n",
       "[45,] FALSE  FALSE  FALSE  FALSE  FALSE \n",
       "[46,] FALSE  FALSE  FALSE  FALSE  FALSE \n",
       "[47,] FALSE  FALSE  FALSE  FALSE  FALSE \n",
       "[48,] FALSE  FALSE  FALSE  FALSE  FALSE \n",
       "[49,] FALSE  FALSE  FALSE  FALSE  FALSE \n",
       "[50,] FALSE  FALSE  FALSE  FALSE  FALSE \n",
       "[51,] FALSE  FALSE  FALSE  FALSE  FALSE \n",
       "[52,] FALSE  FALSE  FALSE  FALSE  FALSE \n",
       "[53,] FALSE  FALSE  FALSE  FALSE  FALSE \n",
       "[54,] FALSE  FALSE  FALSE  FALSE  FALSE \n",
       "[55,] FALSE  FALSE  FALSE  FALSE  FALSE \n",
       "[56,] FALSE  FALSE  FALSE  FALSE  FALSE \n",
       "[57,] FALSE  FALSE  FALSE  FALSE  FALSE \n",
       "[58,] FALSE  FALSE  FALSE  FALSE  FALSE \n",
       "[59,] FALSE  FALSE  FALSE  FALSE  FALSE \n",
       "[60,] FALSE  FALSE  FALSE  FALSE  FALSE \n",
       "[61,] FALSE  FALSE  FALSE  FALSE  FALSE "
      ]
     },
     "metadata": {},
     "output_type": "display_data"
    }
   ],
   "source": [
    "# verifica dados faltantes no novo dataset\n",
    "is.na(denade_limpa)"
   ]
  },
  {
   "cell_type": "code",
   "execution_count": 12,
   "metadata": {
    "collapsed": true
   },
   "outputs": [],
   "source": [
    "# vamos tirar as coluna que não iremos utilizar\n",
    "denade_limpa<-denade[,-c(1,\n",
    "                    2,\n",
    "                    3,\n",
    "                    4,\n",
    "                    5,\n",
    "                    6,\n",
    "                    7,\n",
    "                    8,\n",
    "                    9,\n",
    "                   10,\n",
    "                   11,\n",
    "                   12,\n",
    "                   13,\n",
    "                   14,\n",
    "                   15,\n",
    "                   16,\n",
    "                   17,\n",
    "                   18,\n",
    "                   19,\n",
    "                   20,\n",
    "                   21,\n",
    "                   22,\n",
    "                   23,\n",
    "                   24,\n",
    "                   25,\n",
    "                   26,\n",
    "                   27,\n",
    "                   28,\n",
    "                   29,\n",
    "                   30,\n",
    "                   31,\n",
    "                   32,\n",
    "                   33,\n",
    "                   34,\n",
    "                   35,\n",
    "                   36,\n",
    "                   37,\n",
    "                   38,\n",
    "                   39,\n",
    "                   40,\n",
    "                   41,\n",
    "                   42,\n",
    "                   43,\n",
    "                   44,\n",
    "                   45,\n",
    "                   46,\n",
    "                   47,\n",
    "                   48,\n",
    "                   49,\n",
    "                   50,\n",
    "                   51,\n",
    "                   52,\n",
    "                   53,\n",
    "                   54,\n",
    "                   55,\n",
    "                   56,\n",
    "                   57,\n",
    "                   58,\n",
    "                   59,\n",
    "                   60,\n",
    "                   61,\n",
    "                   62,\n",
    "                   63,\n",
    "                   64,\n",
    "                   67,\n",
    "                   68,\n",
    "                   69,\n",
    "                   70,\n",
    "                   71,\n",
    "                   72,\n",
    "                   73,\n",
    "                   74,\n",
    "                   75,\n",
    "                   76,\n",
    "                   77,\n",
    "                   78,\n",
    "                   79,\n",
    "                   80,\n",
    "                   81,\n",
    "                   82,\n",
    "                   83,\n",
    "                   84,\n",
    "                   85,\n",
    "                   86,\n",
    "                   87,\n",
    "                   88,\n",
    "                   89,\n",
    "                   91,\n",
    "                   95,\n",
    "                   96,\n",
    "                   97,\n",
    "                   98,\n",
    "                   99,\n",
    "                   100,\n",
    "                   101,\n",
    "                   102,\n",
    "                   103,\n",
    "                   104,\n",
    "                   105,\n",
    "                   106,\n",
    "                   107,\n",
    "                   108,\n",
    "                   109,\n",
    "                   110,\n",
    "                   111,\n",
    "                   112,\n",
    "                   113,\n",
    "                   114,\n",
    "                   115,\n",
    "                   116,\n",
    "                   117,\n",
    "                   118,\n",
    "                   119,\n",
    "                   120,\n",
    "                   121,\n",
    "                   122,\n",
    "                   123,\n",
    "                   124,\n",
    "                   125,\n",
    "                   126,\n",
    "                   127,\n",
    "                   128,\n",
    "                   129,\n",
    "                   130,\n",
    "                   131,\n",
    "                   132,\n",
    "                   133,\n",
    "                   134,\n",
    "                   135,\n",
    "                   136,\n",
    "                   137,\n",
    "                   138,\n",
    "                   139,\n",
    "                   140,\n",
    "                   141,\n",
    "                   142,\n",
    "                   143,\n",
    "                   144,\n",
    "                   145,\n",
    "                   146,\n",
    "                   147,\n",
    "                   148,\n",
    "                   149,\n",
    "                   150,\n",
    "                   151,\n",
    "                   152,\n",
    "                   153,\n",
    "                   154,\n",
    "                   155,\n",
    "                   156)]\n"
   ]
  },
  {
   "cell_type": "code",
   "execution_count": 21,
   "metadata": {},
   "outputs": [],
   "source": [
    "\n",
    "#vamos verificar e preencher dados faltantes das notas\n",
    "#Preencher 0 nos campos NA de notas\n",
    "#Nota bruta no componente específico - \n",
    "#Média ponderada da parte objetiva (85%) e discursiva (15%) \n",
    "#no componente específico (0 a 100)\n",
    "\n",
    "denade_limpa$nt_ce[is.na(denade_limpa$nt_ce)] <- 0\n",
    "denade_limpa$nt_ce <- normalize.minmax(denade_limpa$nt_ce)[[1]]\n"
   ]
  },
  {
   "cell_type": "code",
   "execution_count": 22,
   "metadata": {
    "collapsed": true
   },
   "outputs": [],
   "source": [
    "#Nota bruta da prova - Média ponderada da formação geral (25%) \n",
    "#e componente específico (75%) (0 a 100)\n",
    "\n",
    "denade_limpa$nt_ger[is.na(denade_limpa$nt_ger)] <- 0\n",
    "denade_limpa$nt_ger <- normalize.minmax(denade_limpa$nt_ger)[[1]]\n"
   ]
  },
  {
   "cell_type": "code",
   "execution_count": 23,
   "metadata": {
    "collapsed": true
   },
   "outputs": [],
   "source": [
    "# Nova coluna de se a nota é apta ou não\n",
    "# inapto= 0\n",
    "# apto = 1\n",
    "\n",
    "\n",
    "# se tiver a média total maior que 50 vamos considerar apto\n",
    "denade_limpa$apto <- 0\n",
    "denade_limpa$apto[denade_limpa$nt_ger>.50]<-1\n",
    "\n"
   ]
  },
  {
   "cell_type": "code",
   "execution_count": 24,
   "metadata": {
    "collapsed": true
   },
   "outputs": [],
   "source": [
    "#A ( ) Não.\n",
    "#B ( ) Sim, por critério étnico-racial.\n",
    "#C ( ) Sim, por critério de renda.\n",
    "#D ( ) Sim, por ter estudado em escola pública ou particular com bolsa de estudos.\n",
    "#E ( ) Sim, por sistema que combina dois ou mais critérios anteriores.\n",
    "#F ( ) Sim, por sistema diferente dos anteriores.\n",
    "\n",
    "denade_limpa$qe_i15<-as.character(denade_limpa$qe_i15)\n",
    "denade_limpa$qe_i15[denade_limpa$qe_i15==\"\"] <-\"N/A\" \n",
    "denade_limpa$qe_i15<-as.factor(denade_limpa$qe_i15)\n",
    "\n",
    "denade_limpa <-data.frame(denade_limpa,model.matrix(~denade_limpa$qe_i15 - 1))\n"
   ]
  },
  {
   "cell_type": "code",
   "execution_count": 25,
   "metadata": {
    "collapsed": true
   },
   "outputs": [],
   "source": [
    "\n",
    "#A ( ) Todo em escola pública.\n",
    "#B ( ) Todo em escola privada (particular).\n",
    "#C ( ) Todo no exterior.\n",
    "#D ( ) A maior parte em escola pública.\n",
    "#E ( ) A maior parte em escola privada (particular).\n",
    "#F ( ) Parte no Brasil e parte no exterior\n",
    "denade_limpa$qe_i17<-as.character(denade_limpa$qe_i17)\n",
    "denade_limpa$qe_i17[denade_limpa$qe_i17==\"\"] <-\"N/A\" \n",
    "denade_limpa$qe_i17<-as.factor(denade_limpa$qe_i17)\n",
    "\n",
    "denade_limpa <-data.frame(denade_limpa,model.matrix(~denade_limpa$qe_i17 - 1))\n",
    "\n"
   ]
  },
  {
   "cell_type": "code",
   "execution_count": 26,
   "metadata": {
    "collapsed": true
   },
   "outputs": [],
   "source": [
    "#A ( ) Ensino médio tradicional.\n",
    "#B ( ) Profissionalizante técnico (eletrônica, contabilidade, agrícola, outro).4\n",
    "#C ( ) Profissionalizante magistério (Curso Normal).\n",
    "#D ( ) Educação de Jovens e Adultos (EJA) e/ou Supletivo.\n",
    "#E ( ) Outra modalidade.\n",
    "denade_limpa$qe_i18<-as.character(denade_limpa$qe_i18)\n",
    "denade_limpa$qe_i18[denade_limpa$qe_i18==\"\"] <-\"N/A\" \n",
    "denade_limpa$qe_i18<-as.factor(denade_limpa$qe_i18)\n",
    "\n",
    "denade_limpa <-data.frame(denade_limpa,model.matrix(~denade_limpa$qe_i18 - 1))\n",
    "\n"
   ]
  },
  {
   "cell_type": "code",
   "execution_count": 27,
   "metadata": {
    "collapsed": true
   },
   "outputs": [],
   "source": [
    "#A ( ) Ninguém.\n",
    "#B ( ) Pais.\n",
    "#C ( ) Outros membros da família que não os pais.\n",
    "#D ( ) Professores.\n",
    "#E ( ) Líder ou representante religioso.\n",
    "#F ( ) Colegas/Amigos.\n",
    "#G ( ) Outras pessoas\n",
    "denade_limpa$qe_i19<-as.character(denade_limpa$qe_i19)\n",
    "denade_limpa$qe_i19[denade_limpa$qe_i19==\"\"] <-\"N/A\" \n",
    "denade_limpa$qe_i19<-as.factor(denade_limpa$qe_i19)\n",
    "\n",
    "denade_limpa <-data.frame(denade_limpa,model.matrix(~denade_limpa$qe_i19 - 1))\n"
   ]
  },
  {
   "cell_type": "code",
   "execution_count": 28,
   "metadata": {
    "collapsed": true
   },
   "outputs": [],
   "source": [
    "##########################################################################\n",
    "#\n",
    "#Particionando Dados\n",
    "#\n",
    "##########################################################################\n"
   ]
  },
  {
   "cell_type": "code",
   "execution_count": 29,
   "metadata": {},
   "outputs": [
    {
     "data": {
      "text/plain": [
       "\n",
       "     0      1 \n",
       "330316 151404 "
      ]
     },
     "metadata": {},
     "output_type": "display_data"
    }
   ],
   "source": [
    "# checando o alvo\n",
    "\n",
    "table(denade_limpa$apto)\n",
    "\n"
   ]
  },
  {
   "cell_type": "code",
   "execution_count": 30,
   "metadata": {},
   "outputs": [
    {
     "data": {
      "text/html": [
       "385410"
      ],
      "text/latex": [
       "385410"
      ],
      "text/markdown": [
       "385410"
      ],
      "text/plain": [
       "[1] 385410"
      ]
     },
     "metadata": {},
     "output_type": "display_data"
    },
    {
     "data": {
      "text/html": [
       "96310"
      ],
      "text/latex": [
       "96310"
      ],
      "text/markdown": [
       "96310"
      ],
      "text/plain": [
       "[1] 96310"
      ]
     },
     "metadata": {},
     "output_type": "display_data"
    }
   ],
   "source": [
    "#particionando os dados\n",
    "\n",
    "part_denade<- sample(2,nrow(denade_limpa),replace =TRUE,prob = c(0.8,0.2))\n",
    "trei_denade<-denade_limpa[part_denade==1,]\n",
    "teste_denade<-denade_limpa[part_denade==2,]\n",
    "\n",
    "nrow(trei_denade)\n",
    "nrow(teste_denade)\n"
   ]
  },
  {
   "cell_type": "code",
   "execution_count": 31,
   "metadata": {},
   "outputs": [
    {
     "data": {
      "text/plain": [
       "\n",
       "        0         1 \n",
       "0.6857918 0.3142082 "
      ]
     },
     "metadata": {},
     "output_type": "display_data"
    },
    {
     "data": {
      "text/plain": [
       "\n",
       "       0        1 \n",
       "0.685339 0.314661 "
      ]
     },
     "metadata": {},
     "output_type": "display_data"
    }
   ],
   "source": [
    "## verificando a proporção entre a tabela original de treino e de teste\n",
    "prop.table(table(trei_denade$apto))\n",
    "prop.table(table(teste_denade$apto))\n",
    "\n"
   ]
  },
  {
   "cell_type": "code",
   "execution_count": 32,
   "metadata": {},
   "outputs": [],
   "source": [
    "##########################################################################\n",
    "#\n",
    "#Realizando a predição\n",
    "#\n",
    "##########################################################################\n",
    "# utilizando o pacote e1071\n",
    "\n",
    "#######\n",
    "#criando o modelo \n",
    "# passando o rótulo alvo\n",
    "e1071model <- naiveBayes(as.factor(apto) ~ ., data=trei_denade)\n"
   ]
  },
  {
   "cell_type": "code",
   "execution_count": 33,
   "metadata": {},
   "outputs": [
    {
     "data": {
      "text/plain": [
       "\n",
       "Naive Bayes Classifier for Discrete Predictors\n",
       "\n",
       "Call:\n",
       "naiveBayes.default(x = X, y = Y, laplace = laplace)\n",
       "\n",
       "A-priori probabilities:\n",
       "Y\n",
       "        0         1 \n",
       "0.6857918 0.3142082 \n",
       "\n",
       "Conditional probabilities:\n",
       "   nt_ce\n",
       "Y        [,1]       [,2]\n",
       "  0 0.2348021 0.16552907\n",
       "  1 0.5821721 0.09898878\n",
       "\n",
       "   nt_ger\n",
       "Y        [,1]       [,2]\n",
       "  0 0.2675378 0.17761747\n",
       "  1 0.6089555 0.08042783\n",
       "\n",
       "   qe_i15\n",
       "Y             a           b           c           d           e           f\n",
       "  0 0.656828509 0.014395920 0.040944191 0.046396102 0.016741641 0.032397441\n",
       "  1 0.807116491 0.014128936 0.036011858 0.076177343 0.034649336 0.030231464\n",
       "   qe_i15\n",
       "Y           N/A\n",
       "  0 0.192296197\n",
       "  1 0.001684572\n",
       "\n",
       "   qe_i17\n",
       "Y              a            b            c            d            e\n",
       "  0 0.5883637079 0.1424155635 0.0008474865 0.0454578130 0.0294123211\n",
       "  1 0.6401208928 0.2720666562 0.0009496362 0.0459376213 0.0366311861\n",
       "   qe_i17\n",
       "Y              f          N/A\n",
       "  0 0.0012106950 0.1922924131\n",
       "  1 0.0026094353 0.0016845721\n",
       "\n",
       "   qe_i18\n",
       "Y             a           b           c           d           e         N/A\n",
       "  0 0.583021516 0.071903931 0.090385947 0.054269402 0.008119223 0.192299980\n",
       "  1 0.740262100 0.103196558 0.103328681 0.043295155 0.008232933 0.001684572\n",
       "\n",
       "   qe_i19\n",
       "Y             a           b           c           d           e           f\n",
       "  0 0.166266255 0.436682544 0.081786229 0.029045329 0.003862874 0.062316741\n",
       "  1 0.191925615 0.578204609 0.095021429 0.036251332 0.004566512 0.063955937\n",
       "   qe_i19\n",
       "Y             g         N/A\n",
       "  0 0.027743832 0.192296197\n",
       "  1 0.028389995 0.001684572\n",
       "\n",
       "   denade_limpa.qe_i15a\n",
       "Y        [,1]      [,2]\n",
       "  0 0.6568285 0.4747691\n",
       "  1 0.8071165 0.3945640\n",
       "\n",
       "   denade_limpa.qe_i15b\n",
       "Y         [,1]      [,2]\n",
       "  0 0.01439592 0.1191165\n",
       "  1 0.01412894 0.1180230\n",
       "\n",
       "   denade_limpa.qe_i15c\n",
       "Y         [,1]      [,2]\n",
       "  0 0.04094419 0.1981613\n",
       "  1 0.03601186 0.1863204\n",
       "\n",
       "   denade_limpa.qe_i15d\n",
       "Y         [,1]      [,2]\n",
       "  0 0.04639610 0.2103418\n",
       "  1 0.07617734 0.2652827\n",
       "\n",
       "   denade_limpa.qe_i15e\n",
       "Y         [,1]      [,2]\n",
       "  0 0.01674164 0.1283021\n",
       "  1 0.03464934 0.1828908\n",
       "\n",
       "   denade_limpa.qe_i15f\n",
       "Y         [,1]      [,2]\n",
       "  0 0.03239744 0.1770536\n",
       "  1 0.03023146 0.1712243\n",
       "\n",
       "   denade_limpa.qe_i15N.A\n",
       "Y          [,1]       [,2]\n",
       "  0 0.192296197 0.39410526\n",
       "  1 0.001684572 0.04100912\n",
       "\n",
       "   denade_limpa.qe_i17a\n",
       "Y        [,1]      [,2]\n",
       "  0 0.5883637 0.4921308\n",
       "  1 0.6401209 0.4799667\n",
       "\n",
       "   denade_limpa.qe_i17b\n",
       "Y        [,1]      [,2]\n",
       "  0 0.1424156 0.3494765\n",
       "  1 0.2720667 0.4450259\n",
       "\n",
       "   denade_limpa.qe_i17c\n",
       "Y           [,1]       [,2]\n",
       "  0 0.0008474865 0.02909934\n",
       "  1 0.0009496362 0.03080166\n",
       "\n",
       "   denade_limpa.qe_i17d\n",
       "Y         [,1]      [,2]\n",
       "  0 0.04545781 0.2083064\n",
       "  1 0.04593762 0.2093507\n",
       "\n",
       "   denade_limpa.qe_i17e\n",
       "Y         [,1]      [,2]\n",
       "  0 0.02941232 0.1689596\n",
       "  1 0.03663119 0.1878554\n",
       "\n",
       "   denade_limpa.qe_i17f\n",
       "Y          [,1]       [,2]\n",
       "  0 0.001210695 0.03477404\n",
       "  1 0.002609435 0.05101615\n",
       "\n",
       "   denade_limpa.qe_i17N.A\n",
       "Y          [,1]       [,2]\n",
       "  0 0.192292413 0.39410231\n",
       "  1 0.001684572 0.04100912\n",
       "\n",
       "   denade_limpa.qe_i18a\n",
       "Y        [,1]      [,2]\n",
       "  0 0.5830215 0.4930602\n",
       "  1 0.7402621 0.4384925\n",
       "\n",
       "   denade_limpa.qe_i18b\n",
       "Y         [,1]      [,2]\n",
       "  0 0.07190393 0.2583293\n",
       "  1 0.10319656 0.3042167\n",
       "\n",
       "   denade_limpa.qe_i18c\n",
       "Y         [,1]      [,2]\n",
       "  0 0.09038595 0.2867344\n",
       "  1 0.10332868 0.3043889\n",
       "\n",
       "   denade_limpa.qe_i18d\n",
       "Y         [,1]      [,2]\n",
       "  0 0.05426940 0.2265490\n",
       "  1 0.04329516 0.2035216\n",
       "\n",
       "   denade_limpa.qe_i18e\n",
       "Y          [,1]       [,2]\n",
       "  0 0.008119223 0.08974036\n",
       "  1 0.008232933 0.09036160\n",
       "\n",
       "   denade_limpa.qe_i18N.A\n",
       "Y          [,1]       [,2]\n",
       "  0 0.192299980 0.39410822\n",
       "  1 0.001684572 0.04100912\n",
       "\n",
       "   denade_limpa.qe_i19a\n",
       "Y        [,1]      [,2]\n",
       "  0 0.1662663 0.3723202\n",
       "  1 0.1919256 0.3938165\n",
       "\n",
       "   denade_limpa.qe_i19b\n",
       "Y        [,1]      [,2]\n",
       "  0 0.4366825 0.4959756\n",
       "  1 0.5782046 0.4938482\n",
       "\n",
       "   denade_limpa.qe_i19c\n",
       "Y         [,1]      [,2]\n",
       "  0 0.08178623 0.2740393\n",
       "  1 0.09502143 0.2932457\n",
       "\n",
       "   denade_limpa.qe_i19d\n",
       "Y         [,1]      [,2]\n",
       "  0 0.02904533 0.1679339\n",
       "  1 0.03625133 0.1869157\n",
       "\n",
       "   denade_limpa.qe_i19e\n",
       "Y          [,1]       [,2]\n",
       "  0 0.003862874 0.06203198\n",
       "  1 0.004566512 0.06742178\n",
       "\n",
       "   denade_limpa.qe_i19f\n",
       "Y         [,1]      [,2]\n",
       "  0 0.06231674 0.2417304\n",
       "  1 0.06395594 0.2446754\n",
       "\n",
       "   denade_limpa.qe_i19g\n",
       "Y         [,1]      [,2]\n",
       "  0 0.02774383 0.1642383\n",
       "  1 0.02838999 0.1660850\n",
       "\n",
       "   denade_limpa.qe_i19N.A\n",
       "Y          [,1]       [,2]\n",
       "  0 0.192296197 0.39410526\n",
       "  1 0.001684572 0.04100912\n"
      ]
     },
     "metadata": {},
     "output_type": "display_data"
    }
   ],
   "source": [
    "# sumário de propabilidade condicional\n",
    "e1071model\n"
   ]
  },
  {
   "cell_type": "code",
   "execution_count": 33,
   "metadata": {},
   "outputs": [
    {
     "data": {
      "text/plain": [
       "     \n",
       "                0           1\n",
       "  a   0.656517116 0.807185728\n",
       "  b   0.014378635 0.014222443\n",
       "  c   0.040869378 0.036027981\n",
       "  d   0.046355962 0.076509789\n",
       "  e   0.016966789 0.034413676\n",
       "  f   0.032488147 0.029976406\n",
       "  N/A 0.192423973 0.001663976"
      ]
     },
     "metadata": {},
     "output_type": "display_data"
    },
    {
     "data": {
      "text/plain": [
       "     \n",
       "           0      1\n",
       "  a   173505  97504\n",
       "  b     3800   1718\n",
       "  c    10801   4352\n",
       "  d    12251   9242\n",
       "  e     4484   4157\n",
       "  f     8586   3621\n",
       "  N/A  50854    201"
      ]
     },
     "metadata": {},
     "output_type": "display_data"
    }
   ],
   "source": [
    "#ingresso no curso de graduação se deu por meio de políticas \n",
    "#de ação afirmativa ou inclusão social?\n",
    "#A ( ) Não.\n",
    "#B ( ) Sim, por critério étnico-racial.\n",
    "#C ( ) Sim, por critério de renda.\n",
    "#D ( ) Sim, por ter estudado em escola pública ou particular com bolsa de estudos.\n",
    "#E ( ) Sim, por sistema que combina dois ou mais critérios anteriores.\n",
    "#F ( ) Sim, por sistema diferente dos anteriores.\n",
    "prop.table(table(trei_denade$qe_i15,trei_denade$apto),2)\n",
    "#checar a frequencia da variavel ingresso por meio de políticas de inclusão social\n",
    "table(trei_denade$qe_i15,trei_denade$apto)\n"
   ]
  },
  {
   "cell_type": "code",
   "execution_count": 34,
   "metadata": {},
   "outputs": [
    {
     "data": {
      "text/plain": [
       "     \n",
       "                 0            1\n",
       "  a   0.5878629186 0.6402417319\n",
       "  b   0.1425906516 0.2720890765\n",
       "  c   0.0008475827 0.0010182541\n",
       "  d   0.0454175669 0.0457552051\n",
       "  e   0.0295140400 0.0365743615\n",
       "  f   0.0013470511 0.0026573948\n",
       "  N/A 0.1924201891 0.0016639762"
      ]
     },
     "metadata": {},
     "output_type": "display_data"
    },
    {
     "data": {
      "text/plain": [
       "     \n",
       "           0      1\n",
       "  a   155361  77338\n",
       "  b    37684  32867\n",
       "  c      224    123\n",
       "  d    12003   5527\n",
       "  e     7800   4418\n",
       "  f      356    321\n",
       "  N/A  50853    201"
      ]
     },
     "metadata": {},
     "output_type": "display_data"
    }
   ],
   "source": [
    "# verificando o tipo de escola\n",
    "#passando o dado normal sem transformação dos dados\n",
    "# checar a probabilidade condiconal da tipo de escola\n",
    "#A ( ) Todo em escola pública.\n",
    "#B ( ) Todo em escola privada (particular).\n",
    "#C ( ) Todo no exterior.\n",
    "#D ( ) A maior parte em escola pública.\n",
    "#E ( ) A maior parte em escola privada (particular).\n",
    "#F ( ) Parte no Brasil e parte no exterior\n",
    "prop.table(table(trei_denade$qe_i17,trei_denade$apto),2)\n",
    "#checar a frequencia da variavel tipo de escola\n",
    "table(trei_denade$qe_i17,trei_denade$apto)\n",
    "\n",
    "\n"
   ]
  },
  {
   "cell_type": "code",
   "execution_count": 35,
   "metadata": {},
   "outputs": [
    {
     "data": {
      "text/plain": [
       "     \n",
       "                0           1\n",
       "  a   0.583307162 0.741255847\n",
       "  b   0.072430481 0.102338673\n",
       "  c   0.089771872 0.102943003\n",
       "  d   0.053874475 0.043362722\n",
       "  e   0.008188254 0.008435780\n",
       "  N/A 0.192427757 0.001663976"
      ]
     },
     "metadata": {},
     "output_type": "display_data"
    },
    {
     "data": {
      "text/plain": [
       "     \n",
       "           0      1\n",
       "  a   154157  89540\n",
       "  b    19142  12362\n",
       "  c    23725  12435\n",
       "  d    14238   5238\n",
       "  e     2164   1019\n",
       "  N/A  50855    201"
      ]
     },
     "metadata": {},
     "output_type": "display_data"
    }
   ],
   "source": [
    "# verificando  Qual modalidade de ensino médio concluído\n",
    "#passando o dado normal sem transformação dos dados\n",
    "# checar a probabilidade condiconal da tipo de escola\n",
    "#A ( ) Ensino médio tradicional.\n",
    "#B ( ) Profissionalizante técnico (eletrônica, contabilidade, agrícola, outro).4\n",
    "#C ( ) Profissionalizante magistério (Curso Normal).\n",
    "#D ( ) Educação de Jovens e Adultos (EJA) e/ou Supletivo.\n",
    "#E ( ) Outra modalidade.\n",
    "prop.table(table(trei_denade$qe_i18,trei_denade$apto),2)\n",
    "#checar a frequencia da variavel ensino médio concluído\n",
    "table(trei_denade$qe_i18,trei_denade$apto)\n"
   ]
  },
  {
   "cell_type": "code",
   "execution_count": 36,
   "metadata": {},
   "outputs": [
    {
     "data": {
      "text/plain": [
       "     \n",
       "                0           1\n",
       "  a   0.166655946 0.193410323\n",
       "  b   0.435911019 0.577234157\n",
       "  c   0.081265774 0.094830084\n",
       "  d   0.028806460 0.036359121\n",
       "  e   0.003991963 0.004462105\n",
       "  f   0.062895176 0.063504284\n",
       "  g   0.028049690 0.028535949\n",
       "  N/A 0.192423973 0.001663976"
      ]
     },
     "metadata": {},
     "output_type": "display_data"
    },
    {
     "data": {
      "text/plain": [
       "     \n",
       "           0      1\n",
       "  a    44044  23363\n",
       "  b   115203  69727\n",
       "  c    21477  11455\n",
       "  d     7613   4392\n",
       "  e     1055    539\n",
       "  f    16622   7671\n",
       "  g     7413   3447\n",
       "  N/A  50854    201"
      ]
     },
     "metadata": {},
     "output_type": "display_data"
    }
   ],
   "source": [
    "#Quem lhe deu maior incentivo para cursar a graduação?\n",
    "#passando o dado normal sem transformação dos dados\n",
    "# checar a probabilidade condiconal do maior incentivador para cursar a graduação\n",
    "#A ( ) Ninguém.\n",
    "#B ( ) Pais.\n",
    "#C ( ) Outros membros da família que não os pais.\n",
    "#D ( ) Professores.\n",
    "#E ( ) Líder ou representante religioso.\n",
    "#F ( ) Colegas/Amigos.\n",
    "#G ( ) Outras pessoas\n",
    "prop.table(table(trei_denade$qe_i19,trei_denade$apto),2)\n",
    "#checar a frequencia da variavel incentivo do curso de gradução\n",
    "table(trei_denade$qe_i19,trei_denade$apto)\n",
    "\n"
   ]
  },
  {
   "cell_type": "code",
   "execution_count": 34,
   "metadata": {},
   "outputs": [
    {
     "name": "stderr",
     "output_type": "stream",
     "text": [
      "IOPub data rate exceeded.\n",
      "The notebook server will temporarily stop sending output\n",
      "to the client in order to avoid crashing it.\n",
      "To change this limit, set the config variable\n",
      "`--NotebookApp.iopub_data_rate_limit`.\n"
     ]
    },
    {
     "data": {
      "text/html": [
       "<ol class=list-inline>\n",
       "\t<li>1</li>\n",
       "\t<li>1</li>\n",
       "\t<li>1</li>\n",
       "\t<li>1</li>\n",
       "\t<li>1</li>\n",
       "</ol>\n"
      ],
      "text/latex": [
       "\\begin{enumerate*}\n",
       "\\item 1\n",
       "\\item 1\n",
       "\\item 1\n",
       "\\item 1\n",
       "\\item 1\n",
       "\\end{enumerate*}\n"
      ],
      "text/markdown": [
       "1. 1\n",
       "2. 1\n",
       "3. 1\n",
       "4. 1\n",
       "5. 1\n",
       "\n",
       "\n"
      ],
      "text/plain": [
       "[1] 1 1 1 1 1\n",
       "Levels: 0 1"
      ]
     },
     "metadata": {},
     "output_type": "display_data"
    }
   ],
   "source": [
    "# Predição com o dataset de teste\n",
    "e1071predictions<- predict(e1071model,teste_denade)\n",
    "\n",
    "e1071predictions\n",
    "\n",
    "head(e1071predictions,n=5)\n",
    "\n",
    "\n",
    "\n",
    "\n",
    "\n",
    "\n"
   ]
  },
  {
   "cell_type": "code",
   "execution_count": 42,
   "metadata": {},
   "outputs": [
    {
     "name": "stdout",
     "output_type": "stream",
     "text": [
      "Confusion Matrix and Statistics\n",
      "\n",
      "          True\n",
      "Prediction     0     1\n",
      "         0 34968    60\n",
      "         1 31067 30549\n",
      "                                         \n",
      "               Accuracy : 0.6779         \n",
      "                 95% CI : (0.675, 0.6809)\n",
      "    No Information Rate : 0.6833         \n",
      "    P-Value [Acc > NIR] : 0.9998         \n",
      "                                         \n",
      "                  Kappa : 0.4149         \n",
      " Mcnemar's Test P-Value : <2e-16         \n",
      "                                         \n",
      "            Sensitivity : 0.9980         \n",
      "            Specificity : 0.5295         \n",
      "         Pos Pred Value : 0.4958         \n",
      "         Neg Pred Value : 0.9983         \n",
      "             Prevalence : 0.3167         \n",
      "         Detection Rate : 0.3161         \n",
      "   Detection Prevalence : 0.6376         \n",
      "      Balanced Accuracy : 0.7638         \n",
      "                                         \n",
      "       'Positive' Class : 1              \n",
      "                                         \n"
     ]
    },
    {
     "data": {
      "image/png": "[encoded data removed]",
      "text/plain": [
       "Plot with title \"Detalhes\""
      ]
     },
     "metadata": {},
     "output_type": "display_data"
    }
   ],
   "source": [
    "# imprimindo a matriz de confusão\n",
    "print(confusionMatrix(e1071predictions,teste_denade$apto,positive = \"1\", dnn = c(\"Prediction\",\"True\")))\n",
    "### desenhando a matriz de confusão \n",
    "draw_confusion_matrix(cm)"
   ]
  },
  {
   "cell_type": "code",
   "execution_count": 43,
   "metadata": {},
   "outputs": [
    {
     "data": {
      "text/html": [
       "<dl class=dl-horizontal>\n",
       "\t<dt>ACC</dt>\n",
       "\t\t<dd>67.7921029758702</dd>\n",
       "\t<dt>PRECISION1</dt>\n",
       "\t\t<dd>99.828708461802</dd>\n",
       "\t<dt>PRECISION2</dt>\n",
       "\t\t<dd>49.5796546351597</dd>\n",
       "\t<dt>TPR1</dt>\n",
       "\t\t<dd>52.9537366548043</dd>\n",
       "\t<dt>TPR2</dt>\n",
       "\t\t<dd>99.8039792217975</dd>\n",
       "\t<dt>F11</dt>\n",
       "\t\t<dd>69.2003997506506</dd>\n",
       "\t<dt>F12</dt>\n",
       "\t\t<dd>66.2488479262673</dd>\n",
       "</dl>\n"
      ],
      "text/latex": [
       "\\begin{description*}\n",
       "\\item[ACC] 67.7921029758702\n",
       "\\item[PRECISION1] 99.828708461802\n",
       "\\item[PRECISION2] 49.5796546351597\n",
       "\\item[TPR1] 52.9537366548043\n",
       "\\item[TPR2] 99.8039792217975\n",
       "\\item[F11] 69.2003997506506\n",
       "\\item[F12] 66.2488479262673\n",
       "\\end{description*}\n"
      ],
      "text/markdown": [
       "ACC\n",
       ":   67.7921029758702PRECISION1\n",
       ":   99.828708461802PRECISION2\n",
       ":   49.5796546351597TPR1\n",
       ":   52.9537366548043TPR2\n",
       ":   99.8039792217975F11\n",
       ":   69.2003997506506F12\n",
       ":   66.2488479262673\n",
       "\n"
      ],
      "text/plain": [
       "       ACC PRECISION1 PRECISION2       TPR1       TPR2        F11        F12 \n",
       "  67.79210   99.82871   49.57965   52.95374   99.80398   69.20040   66.24885 "
      ]
     },
     "metadata": {},
     "output_type": "display_data"
    }
   ],
   "source": [
    "## utilizando mmetric para calcular a acuracia e a precisão\n",
    "##\n",
    "mmetric(as.factor(teste_denade$apto),e1071predictions,c(\"ACC\",\"PRECISION\",\"TPR\",\"F1\"))\n",
    "\n"
   ]
  },
  {
   "cell_type": "code",
   "execution_count": 37,
   "metadata": {},
   "outputs": [
    {
     "data": {
      "text/plain": [
       "\n",
       "     0      1 \n",
       "243899 151404 "
      ]
     },
     "metadata": {},
     "output_type": "display_data"
    }
   ],
   "source": [
    "##########################################################################\n",
    "#\n",
    "#2.a Particionando Dados\n",
    "#Colocando agora apenas as notas que foram maior que zero\n",
    "##########################################################################\n",
    "\n",
    "# checando o alvo\n",
    "\n",
    "\n",
    "denade_zero <- sqldf(\"SELECT * FROM denade_limpa where nt_ger>0\")\n",
    "denade_zero=as.data.frame(denade_zero)\n",
    "\n",
    "table(denade_zero$apto)\n"
   ]
  },
  {
   "cell_type": "code",
   "execution_count": 38,
   "metadata": {},
   "outputs": [
    {
     "data": {
      "text/html": [
       "385410"
      ],
      "text/latex": [
       "385410"
      ],
      "text/markdown": [
       "385410"
      ],
      "text/plain": [
       "[1] 385410"
      ]
     },
     "metadata": {},
     "output_type": "display_data"
    },
    {
     "data": {
      "text/html": [
       "96310"
      ],
      "text/latex": [
       "96310"
      ],
      "text/markdown": [
       "96310"
      ],
      "text/plain": [
       "[1] 96310"
      ]
     },
     "metadata": {},
     "output_type": "display_data"
    }
   ],
   "source": [
    "#particionando os dados\n",
    "\n",
    "part_denade_zero<- sample(2,nrow(denade_zero),replace =TRUE,prob = c(0.8,0.2))\n",
    "trei_denade_zero<-denade_zero[part_denade==1,]\n",
    "teste_denade_zero<-denade_zero[part_denade==2,]\n",
    "\n",
    "nrow(trei_denade_zero)\n",
    "nrow(teste_denade_zero)\n",
    "\n"
   ]
  },
  {
   "cell_type": "code",
   "execution_count": 39,
   "metadata": {},
   "outputs": [
    {
     "data": {
      "text/plain": [
       "\n",
       "        0         1 \n",
       "0.6173122 0.3826878 "
      ]
     },
     "metadata": {},
     "output_type": "display_data"
    },
    {
     "data": {
      "text/plain": [
       "\n",
       "        0         1 \n",
       "0.6157095 0.3842905 "
      ]
     },
     "metadata": {},
     "output_type": "display_data"
    }
   ],
   "source": [
    "## verificando a proporção entre a tabela original de treino e de teste\n",
    "prop.table(table(trei_denade_zero$apto))\n",
    "prop.table(table(teste_denade_zero$apto))\n"
   ]
  },
  {
   "cell_type": "code",
   "execution_count": 40,
   "metadata": {},
   "outputs": [],
   "source": [
    "##########################################################################\n",
    "#\n",
    "#2.a Realizando a predição\n",
    "#\n",
    "##########################################################################\n",
    "# utilizando o pacote e1071\n",
    "\n",
    "#######\n",
    "\n",
    "#criando o modelo \n",
    "# passando o rótulo alvo\n",
    "e1071model_zero <- naiveBayes(as.factor(apto) ~ ., data=trei_denade_zero)\n"
   ]
  },
  {
   "cell_type": "code",
   "execution_count": 41,
   "metadata": {},
   "outputs": [
    {
     "data": {
      "text/plain": [
       "\n",
       "Naive Bayes Classifier for Discrete Predictors\n",
       "\n",
       "Call:\n",
       "naiveBayes.default(x = X, y = Y, laplace = laplace)\n",
       "\n",
       "A-priori probabilities:\n",
       "Y\n",
       "        0         1 \n",
       "0.6173122 0.3826878 \n",
       "\n",
       "Conditional probabilities:\n",
       "   nt_ce\n",
       "Y        [,1]       [,2]\n",
       "  0 0.3182984 0.10308653\n",
       "  1 0.5821693 0.09890643\n",
       "\n",
       "   nt_ger\n",
       "Y        [,1]       [,2]\n",
       "  0 0.3627663 0.09133754\n",
       "  1 0.6090328 0.08039078\n",
       "\n",
       "   qe_i15\n",
       "Y             a           b           c           d           e           f\n",
       "  0 0.809837526 0.017347994 0.051660063 0.056261965 0.020204347 0.040516191\n",
       "  1 0.805953511 0.014045663 0.036637629 0.076784608 0.034639363 0.030279510\n",
       "   qe_i15\n",
       "Y           N/A\n",
       "  0 0.004171914\n",
       "  1 0.001659717\n",
       "\n",
       "   qe_i17\n",
       "Y              a            b            c            d            e\n",
       "  0 0.7323474308 0.1700553866 0.0010033068 0.0552740154 0.0356378677\n",
       "  1 0.6401882664 0.2721605219 0.0009908757 0.0459270881 0.0364229388\n",
       "   qe_i17\n",
       "Y              f          N/A\n",
       "  0 0.0015100791 0.0041719136\n",
       "  1 0.0026505925 0.0016597168\n",
       "\n",
       "   qe_i18\n",
       "Y             a           b           c           d           e         N/A\n",
       "  0 0.716775699 0.088045292 0.113522119 0.067242032 0.010242944 0.004171914\n",
       "  1 0.740720862 0.102530862 0.103067586 0.043656331 0.008364642 0.001659717\n",
       "\n",
       "   qe_i19\n",
       "Y             a           b           c           d           e           f\n",
       "  0 0.203277128 0.537296395 0.102434555 0.034987766 0.004842491 0.078211862\n",
       "  1 0.192386772 0.576896082 0.095347013 0.036901862 0.004483712 0.063746336\n",
       "   qe_i19\n",
       "Y             g         N/A\n",
       "  0 0.034777890 0.004171914\n",
       "  1 0.028578506 0.001659717\n",
       "\n",
       "   denade_limpa.qe_i15a\n",
       "Y        [,1]      [,2]\n",
       "  0 0.8098375 0.3924302\n",
       "  1 0.8059535 0.3954665\n",
       "\n",
       "   denade_limpa.qe_i15b\n",
       "Y         [,1]      [,2]\n",
       "  0 0.01734799 0.1305647\n",
       "  1 0.01404566 0.1176796\n",
       "\n",
       "   denade_limpa.qe_i15c\n",
       "Y         [,1]      [,2]\n",
       "  0 0.05166006 0.2213404\n",
       "  1 0.03663763 0.1878712\n",
       "\n",
       "   denade_limpa.qe_i15d\n",
       "Y         [,1]      [,2]\n",
       "  0 0.05626197 0.2304275\n",
       "  1 0.07678461 0.2662505\n",
       "\n",
       "   denade_limpa.qe_i15e\n",
       "Y         [,1]      [,2]\n",
       "  0 0.02020435 0.1406991\n",
       "  1 0.03463936 0.1828654\n",
       "\n",
       "   denade_limpa.qe_i15f\n",
       "Y         [,1]      [,2]\n",
       "  0 0.04051619 0.1971670\n",
       "  1 0.03027951 0.1713561\n",
       "\n",
       "   denade_limpa.qe_i15N.A\n",
       "Y          [,1]       [,2]\n",
       "  0 0.004171914 0.06445564\n",
       "  1 0.001659717 0.04070597\n",
       "\n",
       "   denade_limpa.qe_i17a\n",
       "Y        [,1]      [,2]\n",
       "  0 0.7323474 0.4427366\n",
       "  1 0.6401883 0.4799470\n",
       "\n",
       "   denade_limpa.qe_i17b\n",
       "Y        [,1]      [,2]\n",
       "  0 0.1700554 0.3756824\n",
       "  1 0.2721605 0.4450739\n",
       "\n",
       "   denade_limpa.qe_i17c\n",
       "Y           [,1]       [,2]\n",
       "  0 0.0010033068 0.03165921\n",
       "  1 0.0009908757 0.03146271\n",
       "\n",
       "   denade_limpa.qe_i17d\n",
       "Y         [,1]      [,2]\n",
       "  0 0.05527402 0.2285149\n",
       "  1 0.04592709 0.2093279\n",
       "\n",
       "   denade_limpa.qe_i17e\n",
       "Y         [,1]      [,2]\n",
       "  0 0.03563787 0.1853860\n",
       "  1 0.03642294 0.1873409\n",
       "\n",
       "   denade_limpa.qe_i17f\n",
       "Y          [,1]       [,2]\n",
       "  0 0.001510079 0.03883048\n",
       "  1 0.002650592 0.05141584\n",
       "\n",
       "   denade_limpa.qe_i17N.A\n",
       "Y          [,1]       [,2]\n",
       "  0 0.004171914 0.06445564\n",
       "  1 0.001659717 0.04070597\n",
       "\n",
       "   denade_limpa.qe_i18a\n",
       "Y        [,1]      [,2]\n",
       "  0 0.7167757 0.4505656\n",
       "  1 0.7407209 0.4382409\n",
       "\n",
       "   denade_limpa.qe_i18b\n",
       "Y         [,1]      [,2]\n",
       "  0 0.08804529 0.2833615\n",
       "  1 0.10253086 0.3033464\n",
       "\n",
       "   denade_limpa.qe_i18c\n",
       "Y        [,1]      [,2]\n",
       "  0 0.1135221 0.3172308\n",
       "  1 0.1030676 0.3040484\n",
       "\n",
       "   denade_limpa.qe_i18d\n",
       "Y         [,1]      [,2]\n",
       "  0 0.06724203 0.2504413\n",
       "  1 0.04365633 0.2043301\n",
       "\n",
       "   denade_limpa.qe_i18e\n",
       "Y          [,1]       [,2]\n",
       "  0 0.010242944 0.10068802\n",
       "  1 0.008364642 0.09107548\n",
       "\n",
       "   denade_limpa.qe_i18N.A\n",
       "Y          [,1]       [,2]\n",
       "  0 0.004171914 0.06445564\n",
       "  1 0.001659717 0.04070597\n",
       "\n",
       "   denade_limpa.qe_i19a\n",
       "Y        [,1]      [,2]\n",
       "  0 0.2032771 0.4024380\n",
       "  1 0.1923868 0.3941768\n",
       "\n",
       "   denade_limpa.qe_i19b\n",
       "Y        [,1]      [,2]\n",
       "  0 0.5372964 0.4986083\n",
       "  1 0.5768961 0.4940536\n",
       "\n",
       "   denade_limpa.qe_i19c\n",
       "Y         [,1]      [,2]\n",
       "  0 0.10243455 0.3032197\n",
       "  1 0.09534701 0.2936949\n",
       "\n",
       "   denade_limpa.qe_i19d\n",
       "Y         [,1]      [,2]\n",
       "  0 0.03498777 0.1837493\n",
       "  1 0.03690186 0.1885216\n",
       "\n",
       "   denade_limpa.qe_i19e\n",
       "Y          [,1]       [,2]\n",
       "  0 0.004842491 0.06941949\n",
       "  1 0.004483712 0.06681052\n",
       "\n",
       "   denade_limpa.qe_i19f\n",
       "Y         [,1]      [,2]\n",
       "  0 0.07821186 0.2685054\n",
       "  1 0.06374634 0.2443015\n",
       "\n",
       "   denade_limpa.qe_i19g\n",
       "Y         [,1]      [,2]\n",
       "  0 0.03477789 0.1832172\n",
       "  1 0.02857851 0.1666193\n",
       "\n",
       "   denade_limpa.qe_i19N.A\n",
       "Y          [,1]       [,2]\n",
       "  0 0.004171914 0.06445564\n",
       "  1 0.001659717 0.04070597\n"
      ]
     },
     "metadata": {},
     "output_type": "display_data"
    }
   ],
   "source": [
    "# sumário de propabilidade condicional\n",
    "e1071model_zero\n",
    "\n"
   ]
  },
  {
   "cell_type": "code",
   "execution_count": 42,
   "metadata": {},
   "outputs": [
    {
     "data": {
      "text/plain": [
       "     \n",
       "                 0            1\n",
       "  a   0.7323474308 0.6401882664\n",
       "  b   0.1700553866 0.2721605219\n",
       "  c   0.0010033068 0.0009908757\n",
       "  d   0.0552740154 0.0459270881\n",
       "  e   0.0356378677 0.0364229388\n",
       "  f   0.0015100791 0.0026505925\n",
       "  N/A 0.0041719136 0.0016597168"
      ]
     },
     "metadata": {},
     "output_type": "display_data"
    }
   ],
   "source": [
    "# verificando o tipo de escola\n",
    "#passando o dado normal sem transformação dos dados\n",
    "# checar a probabilidade condiconal da tipo de escola\n",
    "prop.table(table(trei_denade_zero$qe_i17,trei_denade_zero$apto),2)\n"
   ]
  },
  {
   "cell_type": "code",
   "execution_count": 43,
   "metadata": {},
   "outputs": [
    {
     "data": {
      "text/plain": [
       "     \n",
       "           0      1\n",
       "  a   143067  77530\n",
       "  b    33221  32960\n",
       "  c      196    120\n",
       "  d    10798   5562\n",
       "  e     6962   4411\n",
       "  f      295    321\n",
       "  N/A    815    201"
      ]
     },
     "metadata": {},
     "output_type": "display_data"
    }
   ],
   "source": [
    "#checar a frequencia da variavel tipo de escola\n",
    "table(trei_denade_zero$qe_i17,trei_denade_zero$apto)\n"
   ]
  },
  {
   "cell_type": "code",
   "execution_count": 44,
   "metadata": {},
   "outputs": [
    {
     "name": "stderr",
     "output_type": "stream",
     "text": [
      "IOPub data rate exceeded.\n",
      "The notebook server will temporarily stop sending output\n",
      "to the client in order to avoid crashing it.\n",
      "To change this limit, set the config variable\n",
      "`--NotebookApp.iopub_data_rate_limit`.\n"
     ]
    },
    {
     "data": {
      "text/html": [
       "<ol class=list-inline>\n",
       "\t<li>1</li>\n",
       "\t<li>1</li>\n",
       "\t<li>0</li>\n",
       "\t<li>1</li>\n",
       "\t<li>1</li>\n",
       "</ol>\n"
      ],
      "text/latex": [
       "\\begin{enumerate*}\n",
       "\\item 1\n",
       "\\item 1\n",
       "\\item 0\n",
       "\\item 1\n",
       "\\item 1\n",
       "\\end{enumerate*}\n"
      ],
      "text/markdown": [
       "1. 1\n",
       "2. 1\n",
       "3. 0\n",
       "4. 1\n",
       "5. 1\n",
       "\n",
       "\n"
      ],
      "text/plain": [
       "[1] 1 1 0 1 1\n",
       "Levels: 0 1"
      ]
     },
     "metadata": {},
     "output_type": "display_data"
    }
   ],
   "source": [
    "# Predição com o dataset de teste com notas maiores que zero\n",
    "e1071predictions_zero<- predict(e1071model_zero,teste_denade_zero)\n",
    "\n",
    "e1071predictions_zero\n",
    "\n",
    "head(e1071predictions_zero,n=5)\n",
    "\n",
    "\n"
   ]
  },
  {
   "cell_type": "code",
   "execution_count": 53,
   "metadata": {},
   "outputs": [
    {
     "name": "stdout",
     "output_type": "stream",
     "text": [
      "Confusion Matrix and Statistics\n",
      "\n",
      "          True\n",
      "Prediction     0     1\n",
      "         0 42234  1712\n",
      "         1  6947 28387\n",
      "                                          \n",
      "               Accuracy : 0.8908          \n",
      "                 95% CI : (0.8886, 0.8929)\n",
      "    No Information Rate : 0.6203          \n",
      "    P-Value [Acc > NIR] : < 2.2e-16       \n",
      "                                          \n",
      "                  Kappa : 0.7757          \n",
      " Mcnemar's Test P-Value : < 2.2e-16       \n",
      "                                          \n",
      "            Sensitivity : 0.9431          \n",
      "            Specificity : 0.8587          \n",
      "         Pos Pred Value : 0.8034          \n",
      "         Neg Pred Value : 0.9610          \n",
      "             Prevalence : 0.3797          \n",
      "         Detection Rate : 0.3581          \n",
      "   Detection Prevalence : 0.4457          \n",
      "      Balanced Accuracy : 0.9009          \n",
      "                                          \n",
      "       'Positive' Class : 1               \n",
      "                                          \n"
     ]
    },
    {
     "data": {
      "image/png": "[encoded data removed]",
      "text/plain": [
       "Plot with title \"Detalhes\""
      ]
     },
     "metadata": {},
     "output_type": "display_data"
    }
   ],
   "source": [
    "#imprimindo a amtriz de confusão\n",
    "print(confusionMatrix(e1071predictions_zero,teste_denade_zero$apto,positive = \"1\", dnn = c(\"Prediction\",\"True\")))\n",
    "cm_zero<-confusionMatrix(e1071predictions_zero,teste_denade_zero$apto,positive = \"1\", dnn = c(\"Prediction\",\"True\"))\n",
    "\n",
    "### desenhando a matriz de confusão \n",
    "draw_confusion_matrix(cm_zero)\n"
   ]
  },
  {
   "cell_type": "code",
   "execution_count": 54,
   "metadata": {},
   "outputs": [
    {
     "data": {
      "text/html": [
       "<dl class=dl-horizontal>\n",
       "\t<dt>ACC</dt>\n",
       "\t\t<dd>39.1436612722983</dd>\n",
       "\t<dt>PRECISION1</dt>\n",
       "\t\t<dd>62.6741860388865</dd>\n",
       "\t<dt>PRECISION2</dt>\n",
       "\t\t<dd>38.3653471638548</dd>\n",
       "\t<dt>TPR1</dt>\n",
       "\t\t<dd>38.866635489315</dd>\n",
       "\t<dt>TPR2</dt>\n",
       "\t\t<dd>62.1781454533373</dd>\n",
       "\t<dt>F11</dt>\n",
       "\t\t<dd>47.9794176706827</dd>\n",
       "\t<dt>F12</dt>\n",
       "\t\t<dd>47.4518255578093</dd>\n",
       "</dl>\n"
      ],
      "text/latex": [
       "\\begin{description*}\n",
       "\\item[ACC] 39.1436612722983\n",
       "\\item[PRECISION1] 62.6741860388865\n",
       "\\item[PRECISION2] 38.3653471638548\n",
       "\\item[TPR1] 38.866635489315\n",
       "\\item[TPR2] 62.1781454533373\n",
       "\\item[F11] 47.9794176706827\n",
       "\\item[F12] 47.4518255578093\n",
       "\\end{description*}\n"
      ],
      "text/markdown": [
       "ACC\n",
       ":   39.1436612722983PRECISION1\n",
       ":   62.6741860388865PRECISION2\n",
       ":   38.3653471638548TPR1\n",
       ":   38.866635489315TPR2\n",
       ":   62.1781454533373F11\n",
       ":   47.9794176706827F12\n",
       ":   47.4518255578093\n",
       "\n"
      ],
      "text/plain": [
       "       ACC PRECISION1 PRECISION2       TPR1       TPR2        F11        F12 \n",
       "  39.14366   62.67419   38.36535   38.86664   62.17815   47.97942   47.45183 "
      ]
     },
     "metadata": {},
     "output_type": "display_data"
    }
   ],
   "source": [
    "## utilizando mmetric para calcular a acuracia e a precisão\n",
    "##\n",
    "mmetric(as.factor(teste_denade_zero$apto),e1071predictions,c(\"ACC\",\"PRECISION\",\"TPR\",\"F1\"))\n"
   ]
  },
  {
   "cell_type": "code",
   "execution_count": null,
   "metadata": {
    "collapsed": true
   },
   "outputs": [],
   "source": []
  },
  {
   "cell_type": "code",
   "execution_count": null,
   "metadata": {
    "collapsed": true
   },
   "outputs": [],
   "source": []
  },
  {
   "cell_type": "code",
   "execution_count": null,
   "metadata": {
    "collapsed": true
   },
   "outputs": [],
   "source": []
  }
 ],
 "metadata": {
  "kernelspec": {
   "display_name": "R",
   "language": "R",
   "name": "ir"
  },
  "language_info": {
   "codemirror_mode": "r",
   "file_extension": ".r",
   "mimetype": "text/x-r-source",
   "name": "R",
   "pygments_lexer": "r",
   "version": "3.3.2"
  }
 },
 "nbformat": 4,
 "nbformat_minor": 2
}
